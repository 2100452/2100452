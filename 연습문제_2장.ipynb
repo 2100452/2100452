{
  "nbformat": 4,
  "nbformat_minor": 0,
  "metadata": {
    "colab": {
      "name": "연습문제 2장.ipynb",
      "provenance": [],
      "authorship_tag": "ABX9TyOKmzD5WqDpty2Kq3BjJN4S",
      "include_colab_link": true
    },
    "kernelspec": {
      "name": "python3",
      "display_name": "Python 3"
    },
    "language_info": {
      "name": "python"
    }
  },
  "cells": [
    {
      "cell_type": "markdown",
      "metadata": {
        "id": "view-in-github",
        "colab_type": "text"
      },
      "source": [
        "<a href=\"https://colab.research.google.com/github/2100452/2100452/blob/main/%EC%97%B0%EC%8A%B5%EB%AC%B8%EC%A0%9C_2%EC%9E%A5.ipynb\" target=\"_parent\"><img src=\"https://colab.research.google.com/assets/colab-badge.svg\" alt=\"Open In Colab\"/></a>"
      ]
    },
    {
      "cell_type": "markdown",
      "source": [
        "사용자한테 이름과 나이를 입럭하게 한다 사용자가 100살이 되는 연도를 화면에 츨력하는 프로그랩을 작성하라"
      ],
      "metadata": {
        "id": "uW7ODlnWCMh6"
      }
    },
    {
      "cell_type": "code",
      "execution_count": null,
      "metadata": {
        "id": "G90B7aTxBZlE"
      },
      "outputs": [],
      "source": [
        "name = input(\"이름을 입력하시오: \") #이름을 받는다.\n",
        "age = int(input(\"나이를 입력하시오: \"))  #int로 숫자를 입력받는다.\n",
        "year = 2021-age+100  #계산이기 때문에 따옴표를 쓰지 않는다.\n",
        "print(name + \"씨는 \" + str(year) + \"년에 100살이시네요!\")  #문장으로 출력한다."
      ]
    },
    {
      "cell_type": "markdown",
      "source": [
        "사용자로부터 3개의 숫자를 받아서 펑균을 계산하고 결과를 출럭하는 프로그램을 작성하라"
      ],
      "metadata": {
        "id": "7_X_9ml2CNV4"
      }
    },
    {
      "cell_type": "code",
      "source": [
        "n1 = int(input(\"첫 번째 숫자를 입력하시오: \")) #n1에 숫자를 입력받는다.\n",
        "n2 = int(input(\"두 번째 숫자를 입력하시오: \"))  #n2에 숫자를 입력받는다.\n",
        "n3 = int(input(\"세 번째 숫자를 입력하시오: \"))  #n3에 숫자를 입력받는다.\n",
        "average = (n1 + n2 + n3) / 3  #평균을 계산한다.\n",
        "print(n1, n2, n3,\"의 평균은\", average, \"입니다.\")  #문장을 출력한다."
      ],
      "metadata": {
        "id": "CrSXUMD1CNwh"
      },
      "execution_count": null,
      "outputs": []
    },
    {
      "cell_type": "markdown",
      "source": [
        "사용자로부터 원의 반지름을 입력받아서 원의 변적을 계산하는 프로그램을 작성해보자.\n"
      ],
      "metadata": {
        "id": "1wuq9-AZCN2y"
      }
    },
    {
      "cell_type": "code",
      "source": [
        "radius = int(input(\"반지름을 입력하시오: \"))  #radius에 숫자를 입력받는다.\n",
        "area = 3.141592 * radius * radius  #계산한다.\n",
        "print(\"반지름이\", radius, \"인 원의 넓이 =\", area\"입니다.)  #문장을 출력한다."
      ],
      "metadata": {
        "id": "ke-f2pxUCN9S"
      },
      "execution_count": null,
      "outputs": []
    },
    {
      "cell_type": "markdown",
      "source": [
        "원의 반지롬을 변수 radius에 저장한다. radius의 초기값은 50이다. radius 변수를 20\n",
        "씩 증가시면서 (0.0), (100.0), (200,0) 좌표에 원을 3개 그려보자. 터틀 그래퍽을 이용하\n",
        "고 반복문은 사용하지 않는다."
      ],
      "metadata": {
        "id": "IIQBnK53COCw"
      }
    },
    {
      "cell_type": "code",
      "source": [
        "import turtle  #터틀 그래픽을 불러온다.\n",
        "t = turtle.Turtle()  #turtle을 t로 선언한다.\n",
        "t.shape(\"turtle\")  #터틀 이미지를 거북이로 선언한다.\n",
        "\n",
        "radius=50  #radius를 선언한다.\n",
        "t.up() #펜을 올린다.\n",
        "t.goto(0, 0)  #펜을 원점으로 옮긴다.\n",
        "t.down()  #펜을 내린다.\n",
        "t.circle(radius)  #원을 그린다.\n",
        "  \n",
        "radius = radius + 20  #radius변수에 다시 선언한다.\n",
        "t.up()   #펜을 올린다.\n",
        "t.goto(100, 0)   #오른쪽으로 100픽셀 앞으로 간다.\n",
        "t.down()  #펜을 내린다.\n",
        "t.circle(radius)  #circle을 그린다.\n",
        "\n",
        "radius = radius + 20  #radius라는 변수를 다시 선언한다.\n",
        "t.up()  #펜을 들어올린다.\n",
        "t.goto(200, 0)  #오른쪽 200지점으로 옮긴다.\n",
        "t.down()  #펜을 내린다.\n",
        "t.circle(radius)  #radius만큼 그린다.\n",
        "t._screen.exitonclick()  #스크린을 클릭하면 없어진다."
      ],
      "metadata": {
        "id": "sroJjAVfCOIX"
      },
      "execution_count": null,
      "outputs": []
    },
    {
      "cell_type": "markdown",
      "source": [
        "삼각형의 한 변의 길이를 side 변수로 나타낸다. side 변수의 초기값은 100이다 side 변\n",
        "수를 이용하여 화면에 삼각형을 그려보자."
      ],
      "metadata": {
        "id": "DInchaW5CON3"
      }
    },
    {
      "cell_type": "code",
      "source": [
        "import turtle  #터틀 그래픽을 불러온다.\n",
        "t = turtle.Turtle()  #turtle을 t로 선언한다.\n",
        "t.shape(\"turtle\")   #터틀 이미지를 거북이로 선언한다.\n",
        "\n",
        "side=50  #side를 선언한다.\n",
        "t.forward(side) #side만큼 전진\n",
        "t.left(120) #120도 좌회전\n",
        "t.forward(side) #side만큼 전진\n",
        "t.left(120)  #120도 좌회전\n",
        "t.forward(side)  #side만큼 전진\n",
        "t.left(120)  #120도 좌회전\n",
        "t._screen.exitonclick()   #스크린을 클릭하면 없어진다."
      ],
      "metadata": {
        "id": "LW_LahDeCOTa"
      },
      "execution_count": null,
      "outputs": []
    },
    {
      "cell_type": "markdown",
      "source": [
        "5번문제에서 우리는 삼각헝 한변의 길이를 side 변수로 표시했었다 만약우리가 삼각\n",
        "형 한변의 길이를 200으로 변경한다고 하자 5번 코드에서 어디만 수정하면 되는가?"
      ],
      "metadata": {
        "id": "MSJ6ipfkCOYf"
      }
    },
    {
      "cell_type": "code",
      "source": [
        "import turtle  #터틀 그래픽을 불러온다.\n",
        "t = turtle.Turtle()  #turtle을 t로 선언한다.\n",
        "t.shape(\"turtle\")  #터틀 이미지를 거북이로 선언한다.\n",
        "\n",
        "side=200    #side를 선언한다.\n",
        "t.forward(side)  #side만큼 전진\n",
        "t.left(120)   #120도 좌회전\n",
        "t.forward(side)  #side만큼 전진\n",
        "t.left(120)   #120도 좌회전\n",
        "t.forward(side)  #side만큼 전진\n",
        "t.left(120)  #120도 좌회전\n",
        "t._screen.exitonclick()  #스크린을 클릭하면 없어진다."
      ],
      "metadata": {
        "id": "VH-vMONXCOdo"
      },
      "execution_count": null,
      "outputs": []
    },
    {
      "cell_type": "markdown",
      "source": [
        "다음과 같은 그렴을 그러는 프로그랩을 작셩하시오. 이때 작은 사각헝의 한 변의 길이는\n",
        "Side 변수에 저장하고 거븍이가 회젼하는 각도는 angle 변수에 저장한다"
      ],
      "metadata": {
        "id": "Q64yfoqUCOiT"
      }
    },
    {
      "cell_type": "code",
      "source": [
        "import turtle  #터틀 그래픽을 불러온다.\n",
        "t = turtle.Turtle()   #turtle을 t로 선언한다.\n",
        "t.shape(\"turtle\")  #터틀 이미지를 거북이로 선언한다.\n",
        "side = 50   #side를 선언한다.\n",
        "angle = 90  #angle을 선언한다.\n",
        "\n",
        "t.forward(side); t.right(angle); t.forward(side); t.right(angle);t.forward(side);\n",
        "t.right(angle); t.forward(side) #줄의 끝이어서 ;가 없음.\n",
        "t.forward(side); t.right(angle); t.forward(side); t.right(angle); t.forward(side)\n",
        "t.right(angle); t.forward(100); t.right(180) #줄의 끝이어서 ;가 없음.\n",
        "t.forward(side); t.right(angle); t.forward(side); t.right(angle); t.forward(side);\n",
        "t.right(angle); t.forward(side) #줄의 끝이어서 ;가 없음.\n",
        "t.forward(side); t.right(angle); t.forward(side); t.right(angle); t.forward(side)\n",
        "t.write(\"닫으려면 화면 클릭\"); t._screen.exitonclick()  #화면이 꺼진다."
      ],
      "metadata": {
        "id": "YnWW5k9gCOnH"
      },
      "execution_count": null,
      "outputs": []
    }
  ]
}