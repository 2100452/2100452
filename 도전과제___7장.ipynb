{
  "nbformat": 4,
  "nbformat_minor": 0,
  "metadata": {
    "colab": {
      "name": "도전과제 _ 7장",
      "provenance": [],
      "collapsed_sections": [],
      "authorship_tag": "ABX9TyM3eges447KcRBJOU6VZxoD",
      "include_colab_link": true
    },
    "kernelspec": {
      "name": "python3",
      "display_name": "Python 3"
    },
    "language_info": {
      "name": "python"
    }
  },
  "cells": [
    {
      "cell_type": "markdown",
      "metadata": {
        "id": "view-in-github",
        "colab_type": "text"
      },
      "source": [
        "<a href=\"https://colab.research.google.com/github/2100452/2100452/blob/main/%EB%8F%84%EC%A0%84%EA%B3%BC%EC%A0%9C___7%EC%9E%A5.ipynb\" target=\"_parent\"><img src=\"https://colab.research.google.com/assets/colab-badge.svg\" alt=\"Open In Colab\"/></a>"
      ]
    },
    {
      "cell_type": "code",
      "execution_count": null,
      "metadata": {
        "id": "P3hY0x3mXfeQ"
      },
      "outputs": [],
      "source": [
        "import turtle #turtle모듈을 불러온다.\n",
        "t = turtle.Turtle()  #turtle을 t로 선언한다.\n",
        "t.shape(\"turtle\")  #turtle아이콘을 거북이로 바꾼다.\n",
        "\n",
        "def shape(length): # length는 한변의 길이\n",
        " s = turtle.textinput(\"\",\"몇각형을 원하시나요? : \")  #텍스트를 부른다.\n",
        " n = int(s)  #n의 변수에 s를 집어넣는다.\n",
        " for i in range(n):   #ㅑ라는 변수를 n번 반복한다.\n",
        "   t.forward(length) #length만큼 앞으로 전진\n",
        "   t.left(360/n)  #360나누기 n만큼 좌회전\n",
        "\n",
        "t.up() # 펜을 든다. \n",
        "t.goto(-200,0) # (-200, 0)으로 이동한다. \n",
        "t.down() # 펜을 내린다.\n",
        "shape(100); # square() 함수를 호출한다.\n",
        "t.up() #펜을 올린다.\n",
        "t.goto(0,0)  #좌표 (0,0)으로 펜을 옮긴다.\n",
        "t.down()  #펜을 내린다.\n",
        "shape(100);  #square() 함수를 호출한다.\n",
        "t.up() #펜을 올린다.\n",
        "t.goto(200,0)   #우로 200픽셀 옮긴다.\n",
        "t.down()  #펜을 내린다.\n",
        "shape(100); # square() 함수를 호출한다."
      ]
    },
    {
      "cell_type": "code",
      "source": [
        "import turtle  #turtle모듈을 불러온다.\n",
        "t = turtle.Turtle()   #turtle을 t로 선언한다.\n",
        "t.shape(\"turtle\")   #turtle아이콘을 거북이로 바꾼다.  \n",
        "\n",
        "def square(length,index): # length는 한변의 길이\n",
        " t.color(colorList[index])  #색깔을 index로 불러온다. \n",
        " t.begin_fill()   #색깔을 채운다.\n",
        " for i in range(4):  #i라는 변수를 4번 반복한다.\n",
        "    t.forward(length)  #length의 길이만큼 앞으로 전진한다.\n",
        "    t.left(90) #90도만큼 좌회전\n",
        "  t.end_fill()  (색까을 채우는 것을 끝낸다.)\n",
        "colorList = [\"red\", \"blue\", \"green\"]  #colorList의 메모리\n",
        "x = -200 #x는 -200이다.\n",
        "\n",
        "for i in range(len(colorList)):   #i라는 함수를 colorList의 길이만큼 반복한다.\n",
        "  t.up() # 펜을 든다.  \n",
        "  t.goto(x,0) # (-200, 0)으로 이동한다.\n",
        "   t.down() # 펜을 내린다. \n",
        "   square(100,i); # square() 함수를 호출한다.\n",
        "    x +=20"
      ],
      "metadata": {
        "id": "Gut9WF5AXluj"
      },
      "execution_count": null,
      "outputs": []
    },
    {
      "cell_type": "code",
      "source": [
        "import turtle  #turtle을 호출한다.\n",
        "t = turtle.Turtle()  #turtle을 t로 선언한다.\n",
        "\n",
        "# n-각형을 그리는 함수를 정의한다. \n",
        "def n_polygon(n, length): #다각형의 n과 길이를 정의한다.\n",
        "  for i in range(n): #i를 n번 반복한다.\n",
        "    t.forward(length)   #length만큼 앞으로 전진\n",
        "    t.left(360/n)  #360나누기n만큼 좌로 회전\n",
        "\n",
        "def get_color(index): #color을 index로 정의한다.\n",
        "  list = [\"red\", \"orange\", \"yellow\", \"green\",\"blue\", \"navy\", \"purple\", \"gray\", \"skyblue\", \"pink\"] \n",
        "  t.color(list[index])  #리스트의 index를 컬러로 바꾼다.\n",
        "  t.begin_fill()  #색을 채운다.\n",
        "  n_polygon(6,100)  #육각형의 100픽셀로 그린다.\n",
        "  t.end_fill() #끝낸다.\n",
        "\n",
        "for i in range(10):   #i를 10번 반복한다.\n",
        "  t.left(20)   #20도로 좌회전\n",
        "  get_color(i)  #i의 색깔을 얻는다."
      ],
      "metadata": {
        "id": "vcZSvVdAX_8k"
      },
      "execution_count": null,
      "outputs": []
    },
    {
      "cell_type": "code",
      "source": [
        "import turtle # 터틀 그래픽 모듈을 포함한다. \n",
        "t = turtle.Turtle() #turtle을 t로 선언한다.\n",
        "\n",
        "def circle(length):   #length만큼 원을 정의한다.\n",
        "  t.circle(length)  #t를 length만큼 원을 그린다\n",
        "  t.left(60)  #60도로 좌회전한다.\n",
        "\n",
        "def drawit(x, y): #x와y를 정의한다.\n",
        "  t.penup()  #펜을 올린다.\n",
        "  t.goto(x,y) #x와 y로 옮긴다.\n",
        "  t.pendown() #펜을 내린다.\n",
        "  t.begin_fill()  #그리기 시작한다.\n",
        "  t.color(\"green\")   #색깔을 녹색으로 바꾼다. \n",
        "  circle(50) #50으로 원을 그린다.\n",
        "  t.end_fill()  #끝낸다.\n",
        "  \n",
        "s = turtle.Screen() # 그림이 그려지는 화면을 얻는다. \n",
        "s.onscreenclick(drawit) # 마우스 클릭 이벤트 처리 함수를 등록한다. "
      ],
      "metadata": {
        "id": "2478ZjrlYO2N"
      },
      "execution_count": null,
      "outputs": []
    },
    {
      "cell_type": "code",
      "source": [
        "import turtle # 터틀 그래픽 모듈을 포함한다.\n",
        "import random  # 랜덤 함수를 불러온다.\n",
        "\n",
        "def tree(length):  #tree의 길이를 정의한다.\n",
        "  angle = (random.randint(-20,20)) \n",
        "  if length > 5: # length가 5보다 크면 순환호출을 한다. \n",
        "    t.forward(length) # 거북이가 length 만큼 선을 그린다. \n",
        "    t.right(20 + angle) # 오른쪽으로 랜덤한 각도 만큼 회전한다. \n",
        "    tree(length-15 *(random.random()+0.4)) # 랜덤한 값을 인수로 tree()를 호출한다. \n",
        "    t.left(40 + (angle * 2)) # 왼쪽으로 랜덤한 각도 만큼 회전한다. \n",
        "    tree(length-15 *(random.random()+0.4)) # 랜덤한 값을 인수로 tree()를 호출한다. \n",
        "    t.right(20 + angle) # 오른쪽으로 랜덤한 각도 만큼 회전한다.\n",
        "    t.backward(length) # length만큼 뒤로 간다. 제자리로 돌아온다.\n",
        "\n",
        "t = turtle.Turtle()  #turtle을 t로 선언한다.\n",
        "t.left(90)  #좌로 회전\n",
        "t.color(\"green\")  #선 색을 그린으로 바꾼다\n",
        "t.speed(1)  #빠르기를 1로 느리게 한다.\n",
        "tree(90)  #나무를 90으로 그린다."
      ],
      "metadata": {
        "id": "0rRR8NxlYX-5"
      },
      "execution_count": null,
      "outputs": []
    }
  ]
}