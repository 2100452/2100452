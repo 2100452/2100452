{
  "nbformat": 4,
  "nbformat_minor": 0,
  "metadata": {
    "colab": {
      "name": "3장 연습문제.ipynb",
      "provenance": [],
      "authorship_tag": "ABX9TyPFUz8v4DFK3HdNXWAWdL5P",
      "include_colab_link": true
    },
    "kernelspec": {
      "name": "python3",
      "display_name": "Python 3"
    },
    "language_info": {
      "name": "python"
    }
  },
  "cells": [
    {
      "cell_type": "markdown",
      "metadata": {
        "id": "view-in-github",
        "colab_type": "text"
      },
      "source": [
        "<a href=\"https://colab.research.google.com/github/2100452/2100452/blob/main/3%EC%9E%A5_%EC%97%B0%EC%8A%B5%EB%AC%B8%EC%A0%9C.ipynb\" target=\"_parent\"><img src=\"https://colab.research.google.com/assets/colab-badge.svg\" alt=\"Open In Colab\"/></a>"
      ]
    },
    {
      "cell_type": "markdown",
      "source": [
        "사용자로부터 두 개의 정수를 받고 정수의 합 정수의 차, 정수의 곱, 졍수의 펑균, 큰\n",
        "수, 작은 수를 계산하여 화면에 출력하는 프로그랩을 작성하라. 파이썬이 제공하는 내\n",
        "장 함수 max(x, y), min(x, y)을 사용해보자."
      ],
      "metadata": {
        "id": "4IWx1Z-LI0ce"
      }
    },
    {
      "cell_type": "code",
      "execution_count": 1,
      "metadata": {
        "colab": {
          "base_uri": "https://localhost:8080/"
        },
        "id": "qv37fyNGIur5",
        "outputId": "51e9d2c6-d60f-4c92-a528-399479b8c3ed"
      },
      "outputs": [
        {
          "output_type": "stream",
          "name": "stdout",
          "text": [
            "x: 6\n",
            "y: 3\n",
            "두수의 합:  9\n",
            "두수의 차:  3\n",
            "두수의 곱:  18\n",
            "두수의 평균:  4.5\n",
            "큰수:  6\n",
            "작은수:  3\n"
          ]
        }
      ],
      "source": [
        "x = int(input(\"x: \"))  #x의 변수를 숫자로 입력받는다.\n",
        "y = int(input(\"y: \"))  #y의 변수를 숫자로 입력받는다.\n",
        "\n",
        "print(\"두수의 합: \", x+y) #두수의 합을 프린트함.\n",
        "print(\"두수의 차: \", x-y) #두수의 차을 프린트함.\n",
        "print(\"두수의 곱: \", x*y) #두수의 곱을 프린트함.\n",
        "print(\"두수의 평균: \", (x+y)/2)  #두수의 평균을 프린트함.\n",
        "print(\"큰수: \", max(x, y))  #두수의 큰 수을 프린트함.\n",
        "print(\"작은수: \", min(x, y))  #두수의 작은 수을 프린트함."
      ]
    },
    {
      "cell_type": "markdown",
      "source": [
        "원기둥의 부피를 계산하는 프로그램을 작성해보자. 원기둥의 부피는 다음과 같이 계산\n",
        "한다"
      ],
      "metadata": {
        "id": "IsA1BnohI1uj"
      }
    },
    {
      "cell_type": "code",
      "source": [
        "r = float(input(\"r: \")) #r=반지름을 받는다.\n",
        "h = float(input(\"h: \")) #h=높이를 받는다.\n",
        "vol = 3.141592*r**2 * h  #부피를 구한다.\n",
        "print(\"원기둥의 부피: \", vol) #출력한다."
      ],
      "metadata": {
        "colab": {
          "base_uri": "https://localhost:8080/"
        },
        "id": "0fEHzrCII13L",
        "outputId": "12ea9690-fa07-4cfc-8d14-367429110a7e"
      },
      "execution_count": 2,
      "outputs": [
        {
          "output_type": "stream",
          "name": "stdout",
          "text": [
            "r: 6\n",
            "h: 5\n",
            "원기둥의 부피:  565.48656\n"
          ]
        }
      ]
    },
    {
      "cell_type": "markdown",
      "source": [
        "사용지로부터 정수를 받아서 정수의 자리수의 합을 계산하는 프로그램을 작성하여 보\n",
        "자. 예릍 들어서 사용자가 1234를 입럭하였다면 1+2+3+4를 계산하면 된다 나머지 연산자와 정수 나눗셈 연산자 //를 적극적으로 사용해보자"
      ],
      "metadata": {
        "id": "k9cS1Ax3I2Md"
      }
    },
    {
      "cell_type": "code",
      "source": [
        "number = int(input(\"정수를 입력하시오: \")) #정수를 사용자로부터 받는다.\n",
        "\n",
        "sum = 0 #sum은 0임을 선언\n",
        "sum = sum + number % 10  #sum을 다시 선언함.\n",
        "number = number // 10  #//는 정수만 남기도록 나눔.\n",
        "sum = sum + number % 10    #sum을 다시 선언함.\n",
        "number = number // 10   #//는 정수만 남기도록 나눔.\n",
        "sum = sum + number % 10   #sum을 다시 선언함.\n",
        "number = number // 10   #//는 정수만 남기도록 나눔.\n",
        "sum = sum + number % 10   #sum을 다시 선언함.\n",
        "number = number // 10    #//는 정수만 남기도록 나눔.\n",
        "print(\"자리수의 합: \", str(sum))  #str는 문자열임. \n"
      ],
      "metadata": {
        "colab": {
          "base_uri": "https://localhost:8080/"
        },
        "id": "-jKXKc3PI2Ur",
        "outputId": "04b4d2fc-2be8-4b18-d828-eda20cef23f2"
      },
      "execution_count": 3,
      "outputs": [
        {
          "output_type": "stream",
          "name": "stdout",
          "text": [
            "정수를 입력하시오: 3\n",
            "자리수의 합:  3\n"
          ]
        }
      ]
    },
    {
      "cell_type": "markdown",
      "source": [
        "사용자로부터 투 점의 좌표 (xl, yl)과 (x2, y2)를 입력받아서 두 점 사이의 거리를 계산하는 프로그램을 작성해보자 스크립트 모드로 작성하라 거리는 다옴 식으로 계산한다."
      ],
      "metadata": {
        "id": "zfBnhyLOI2bF"
      }
    },
    {
      "cell_type": "code",
      "source": [
        "x1 = int(input(\"x1: \"))  #x1을 사용자로부터 입력받음.\n",
        "y1 = int(input(\"y1: \"))  #y1을 사용자로부터 입력받음.\n",
        "x2 = int(input(\"x2: \"))  #x2을 사용자로부터 입력받음.\n",
        "y2 = int(input(\"y2: \"))  #y2을 사용자로부터 입력받음.\n",
        "dist = ( (x2 - x1)**2 + (y2 - y1)**2 )**0.5  #dist는 두 점 사이의 거리를 구하는 공식임.\n",
        "print(\"두점 사이의 거리=\", dist) #출력받는다."
      ],
      "metadata": {
        "colab": {
          "base_uri": "https://localhost:8080/"
        },
        "id": "6bXMrWQLI2h7",
        "outputId": "c148d982-f981-49f7-bbce-6182649ae1ab"
      },
      "execution_count": 4,
      "outputs": [
        {
          "output_type": "stream",
          "name": "stdout",
          "text": [
            "x1: 4\n",
            "y1: 2\n",
            "x2: 3\n",
            "y2: 3\n",
            "두점 사이의 거리= 1.4142135623730951\n"
          ]
        }
      ]
    },
    {
      "cell_type": "markdown",
      "source": [
        "1번 문제에서 계산한 거리가 맞는지, 터틀그래픽으로 확인해보자. 거북이를 읜쪽으로 45도 회전하여 141만큼 전진시킨다. 다시 거북이\n",
        "를 (0, 0)으로 이동하고 0도를 가리키게 한 후에 100만큼 전진하고 왼쪽으로 90도 회전하여 100만큼 전진한다. 화면에 그러진 직선이 일치하는가?"
      ],
      "metadata": {
        "id": "Hivck3aMI2pb"
      }
    },
    {
      "cell_type": "code",
      "source": [
        "import math  #수학을 불러옴\n",
        "x1 = int(input(\"x1: \"))  #x1을 사용자로부터 입력받음.\n",
        "y1 = int(input(\"y1: \"))  #y1을 사용자로부터 입력받음.\n",
        "x2 = int(input(\"x2: \"))  #x2을 사용자로부터 입력받음.\n",
        "y2 = int(input(\"y2: \"))  #y2을 사용자로부터 입력받음.\n",
        "dist = math.sqrt( (x2 - x1)**2 + (y2 - y1)**2 ) #dist는 두 점 사이의 거리를 구하는 공식임.\n",
        "print(\"두점 사이의 거리=\", dist)   #출력받는다.\n",
        "\n",
        "import turtle #turtle모듈을 불러온다.\n",
        "t = turtle.Turtle() #turtle을 t로 선언한다.\n",
        "t.shape(\"turtle\") #turtle의 이미지를 거북이로 바꾼다.\n",
        "\n",
        "t.left(45)  #좌로 45도 회전\n",
        "t.forward(141) #141픽셀 전진\n",
        "\n",
        "t.setheading(0) #거북이의 방향을 0도로 가리키게 한다.\n",
        "t.goto(0, 0)  #거북이를 좌표(0,0)으로 옮긴다.\n",
        "t.forward(100) #100픽셀 앞으로 전진\n",
        "t.left(90) #90도로 좌회전\n",
        "t.forward(100) #100픽셀 전진\n",
        "t._screen.exitonclick() # 화면을 마우스로 클릭해야 종료되게 하는 부분"
      ],
      "metadata": {
        "id": "9b_z3g1PI2vs"
      },
      "execution_count": null,
      "outputs": []
    },
    {
      "cell_type": "markdown",
      "source": [
        "사용자로부터 두점을 입력받고 터틀그래픽을 이용하여 두 점을 연결하는 직선을 그린다 직선의 끝점에 직선의 길이를 계산하여 츨력해보자"
      ],
      "metadata": {
        "id": "xUsj4XXKI28D"
      }
    },
    {
      "cell_type": "code",
      "source": [
        "import turtle  #turtle 모듈을 불러온다.\n",
        "t = turtle.Turtle() #turtle을 t로 선언한다.\n",
        "t.shape(\"turtle\")  #turtle모양을 거북이 모양으로 바꾼다.\n",
        "\n",
        "x1 = int(input(\"x1: \"))  #x1을 사용자로부터 입력받음.\n",
        "y1 = int(input(\"y1: \"))  #y1을 사용자로부터 입력받음.\n",
        "x2 = int(input(\"x2: \"))  #x2을 사용자로부터 입력받음.\n",
        "y2 = int(input(\"y2: \"))  #y2을 사용자로부터 입력받음.\n",
        "dist = ((x1 - x2) ** 2 + (y1 - y2) ** 2) ** 0.5  #dist는 두 점 사이의 거리를 구하는 공식임.\n",
        "\n",
        "t.up() #펜을 들어올린다\n",
        "t.goto(x1, y1)  #첫번째 점으로 이동\n",
        "t.down()  #펜을 내린다.\n",
        "t.goto(x2, y2) #두번째 점으로 이동\n",
        "\n",
        "t.write(\"점의 길이=\"+str(dist))  #점의 길이는 dist임을 드러낸다.\n",
        "t._screen.exitonclick() # 화면을 마우스로 클릭해야 종료되게 하는 부분"
      ],
      "metadata": {
        "id": "9DJkE92BI3DU"
      },
      "execution_count": null,
      "outputs": []
    },
    {
      "cell_type": "markdown",
      "source": [
        "파이썬에서 timeO을 호출하면 1970년 1월 1일 이후 홀러은 전체 초가 반환된다. 이것을 적절하게 나누거나 나머지를 구해서 현재 시간의 시와 분을 계산할 수 있올까?"
      ],
      "metadata": {
        "id": "fVb5LsqTI3Jd"
      }
    },
    {
      "cell_type": "code",
      "source": [
        "import time #시간 모듈을 불러온다.\n",
        "\n",
        "fseconds = time.time()   #실수로 넘어온다. 예를들면 1482208666.267769\n",
        "total_sec = int(fseconds) #토탈초를 선언한다.\n",
        "total_min = total_sec // 60  #토탈분을 선언한다.\n",
        "minute = total_min % 60  #토탈분을 지금 분으로 나누어 선언\n",
        "total_hour = total_min // 60   #토탈 시간을 선언\n",
        "hour = total_hour % 24 #시간을 24시간으로 나누어 선언\n",
        "\n",
        "print(\"현재 시간(영국 그리니치 시각): \" + str(hour) + \"시\"+ str(minute) + \"분\")"
      ],
      "metadata": {
        "colab": {
          "base_uri": "https://localhost:8080/"
        },
        "id": "ek0GTRLlI3SU",
        "outputId": "1eadd389-c34f-4318-dd1d-a2b8d76adf37"
      },
      "execution_count": 6,
      "outputs": [
        {
          "output_type": "stream",
          "name": "stdout",
          "text": [
            "현재 시간(영국 그리니치 시각): 3시44분\n"
          ]
        }
      ]
    },
    {
      "cell_type": "markdown",
      "source": [
        "움직이는 물체의 운동에너지를 계산해보자. 물체의 에너지를 계산하는 식은 1/2*무게*\n",
        "속도*2이다."
      ],
      "metadata": {
        "id": "Li9ag8NPI4Ld"
      }
    },
    {
      "cell_type": "code",
      "source": [
        "mass = float(input(\"물체의 무게를 입력하시오(킬로그램): \")) #사용자에게 무게를 입력받는다.\n",
        "velocity = float(input(\"물체의 속도를 입력하시오(미터/초): \")) #사용자에게 속도를 입력받는다.\n",
        "\n",
        "energy = 0.5 * mass * velocity **2  #**는 지수 연산자이다.\n",
        "print(\"물체는 \" + str(energy) + \" (줄)의 에너지를 가지고 있다.\") #energy를 문자열로 받는다."
      ],
      "metadata": {
        "colab": {
          "base_uri": "https://localhost:8080/"
        },
        "id": "VrT0xelvI4S8",
        "outputId": "a976a706-b2cc-438a-d012-945013dc61c3"
      },
      "execution_count": 5,
      "outputs": [
        {
          "output_type": "stream",
          "name": "stdout",
          "text": [
            "물체의 무게를 입력하시오(킬로그램): 25\n",
            "물체의 속도를 입력하시오(미터/초): 34\n",
            "물체는 14450.0 (줄)의 에너지를 가지고 있다.\n"
          ]
        }
      ]
    }
  ]
}