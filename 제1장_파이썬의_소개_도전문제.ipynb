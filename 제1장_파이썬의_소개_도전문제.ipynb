{
  "nbformat": 4,
  "nbformat_minor": 0,
  "metadata": {
    "colab": {
      "name": "제1장 파이썬의 소개: 도전문제",
      "provenance": [],
      "authorship_tag": "ABX9TyMBcENv//DCWNeXEbNUavBR",
      "include_colab_link": true
    },
    "kernelspec": {
      "name": "python3",
      "display_name": "Python 3"
    },
    "language_info": {
      "name": "python"
    }
  },
  "cells": [
    {
      "cell_type": "markdown",
      "metadata": {
        "id": "view-in-github",
        "colab_type": "text"
      },
      "source": [
        "<a href=\"https://colab.research.google.com/github/2100452/2100452/blob/main/%EC%A0%9C1%EC%9E%A5_%ED%8C%8C%EC%9D%B4%EC%8D%AC%EC%9D%98_%EC%86%8C%EA%B0%9C_%EB%8F%84%EC%A0%84%EB%AC%B8%EC%A0%9C.ipynb\" target=\"_parent\"><img src=\"https://colab.research.google.com/assets/colab-badge.svg\" alt=\"Open In Colab\"/></a>"
      ]
    },
    {
      "cell_type": "markdown",
      "metadata": {
        "id": "yX-yQZovM88q"
      },
      "source": [
        "**도전문제**\n",
        "(1) \"안녕하세요?\"를 화면에 출력해보자.\n",
        "(2) \"programming에 입문하신 것을 축하드립니다.\"를 출력해보자."
      ]
    },
    {
      "cell_type": "code",
      "metadata": {
        "colab": {
          "base_uri": "https://localhost:8080/"
        },
        "id": "1ZVQr10yNZbi",
        "outputId": "d59fbb5f-9373-4045-99a0-fc0ebdbde8a9"
      },
      "source": [
        "print(\"안녕하세요?\");print(\"programming에 입문하신 것을 축하드립니다.\") "
      ],
      "execution_count": null,
      "outputs": [
        {
          "output_type": "stream",
          "name": "stdout",
          "text": [
            "안녕하세요?\n",
            "programming에 입문하신 것을 축하드립니다.\n"
          ]
        }
      ]
    },
    {
      "cell_type": "markdown",
      "metadata": {
        "id": "f3o_zbpQ_sZU"
      },
      "source": [
        "**도전문제**\n",
        "파이썬의 IDLE를 이용하여 다음과 같은 계산을 해보자.\n",
        "(1)print(3.141592*10.0*10.0)\n",
        "(2)print((1/100)*1234)"
      ]
    },
    {
      "cell_type": "code",
      "metadata": {
        "id": "cs4rF38MMmBB",
        "colab": {
          "base_uri": "https://localhost:8080/"
        },
        "outputId": "aa7bc5cf-f346-4883-e236-bafa64f368a3"
      },
      "source": [
        "print(3.141592*10.0*10.0)\n",
        "print((1/100)*1234)"
      ],
      "execution_count": 5,
      "outputs": [
        {
          "output_type": "stream",
          "name": "stdout",
          "text": [
            "314.1592\n",
            "12.34\n"
          ]
        }
      ]
    },
    {
      "cell_type": "markdown",
      "metadata": {
        "id": "JMG4aKHrBhd5"
      },
      "source": [
        "**도전문제**\n",
        "(1)거북이를 움직여서 정삼각형을 그려보자. 회전하는 각도를 몇 도로 하여야 하는가?\n",
        "(2) 거북이를 움직여서 정사각형을 그려보자. 회전하는 각도를 몇 도로 하여야 하는가?"
      ]
    },
    {
      "cell_type": "code",
      "metadata": {
        "id": "O0x7LtSVCJYi"
      },
      "source": [
        "import turtle  #turtle 모듈을 불러온다.\n",
        "t = turtle.Turtle()   #turtle을 t로 선언한다.\n",
        "t.shape(\"turtle\");   #turtle모듈의 아이콘을 거북이 모양으로 선언한다.\n",
        "\n",
        "t.forward(100); #100픽셀만큼 직진 (이동 길이 즉, 각 변의 길이)\n",
        "t.left(120); #120도로 왼쪽으로 회전\n",
        "t.forward(100); #100픽셀만큼 직진\n",
        "t.left(120);  #120도 회전"
      ],
      "execution_count": null,
      "outputs": []
    },
    {
      "cell_type": "code",
      "metadata": {
        "id": "LZcrLU0LDxqy"
      },
      "source": [
        "import turtle #turtle 모듈을 불러온다.\n",
        "t = turtle.Turtle()   #turtle을 t로 선언한다.\n",
        "t.shape(\"turtle\");   #turtle모듈의 아이콘을 거북이 모양으로 선언한다.\n",
        "\n",
        "t.forward(100); #100픽셀만큼 직진\n",
        "t.left(90); #90도 좌회전\n",
        "t.forward(100); #100픽셀만큼 직진\n",
        "t.left(90); #90도로 좌회전\n",
        "t.forward(100); #100픽셀만큼 직진\n",
        "t.left(90); #90도로 좌회전\n",
        "t.forward(100);100픽셀만큼 직진"
      ],
      "execution_count": null,
      "outputs": []
    },
    {
      "cell_type": "markdown",
      "metadata": {
        "id": "gqwqVwtVBh8h"
      },
      "source": [
        "**도전문제**\n",
        "화살표를 움직여서 6각형을 그려보자. 회전하는 각도를 몇 도로 하여야 하는가?"
      ]
    },
    {
      "cell_type": "code",
      "metadata": {
        "id": "ADLRhOo8G5jh"
      },
      "source": [
        "import turtle  #turtle 모듈을 불러온다.\n",
        "t = turtle.Turtle()   #turtle을 t로 선언한다.\n",
        "t.shape(\"turtle\");   #turtle모듈의 아이콘을 거북이 모양으로 선언한다.\n",
        "\n",
        "t.forward(100); #100픽셀 전진\n",
        "t.left(60);  #60도 좌로 회전\n",
        "t.forward(100);  #100픽셀 전진\n",
        "t.left(60);  #60도 좌로 회전\n",
        "t.forward(100);#100픽셀 전진\n",
        "t.left(60);  #60도 좌로 회전\n",
        "t.forward(100);  #100픽셀 전진\n",
        "t.left(60);   #60도 좌로 회전\n",
        "t.forward(100);  #100픽셀 전진  \n",
        "t.left(60);  #60도 좌로 회전\n",
        "t.forward(100);  #100픽셀 전진\n",
        "t.left(60);  #60도 좌로 회전"
      ],
      "execution_count": null,
      "outputs": []
    }
  ]
}