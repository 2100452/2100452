{
  "nbformat": 4,
  "nbformat_minor": 0,
  "metadata": {
    "colab": {
      "name": "도전문제 6장.ipynb",
      "provenance": [],
      "collapsed_sections": [],
      "authorship_tag": "ABX9TyNUSPzuMEK0jYbuHT0rpj3z",
      "include_colab_link": true
    },
    "kernelspec": {
      "display_name": "Python 3",
      "name": "python3"
    },
    "language_info": {
      "name": "python"
    }
  },
  "cells": [
    {
      "cell_type": "markdown",
      "metadata": {
        "id": "view-in-github",
        "colab_type": "text"
      },
      "source": [
        "<a href=\"https://colab.research.google.com/github/2100452/2100452/blob/main/%EB%8F%84%EC%A0%84%EB%AC%B8%EC%A0%9C_6%EC%9E%A5.ipynb\" target=\"_parent\"><img src=\"https://colab.research.google.com/assets/colab-badge.svg\" alt=\"Open In Colab\"/></a>"
      ]
    },
    {
      "cell_type": "markdown",
      "metadata": {
        "id": "shHPtTUyP-ZW"
      },
      "source": [
        "# 도전문제 6장"
      ]
    },
    {
      "cell_type": "code",
      "metadata": {
        "id": "eMj2Nk7RP7QJ"
      },
      "source": [
        "import turtle #turtle 모듈을 불러온다.\n",
        "t = turtle.Turtle()  #turtle을 t로 선언한다.\n",
        "t.shape(\"turtle\")  #turtle모듈의 아이콘을 거북이 모양으로 선언한다.\n",
        "\n",
        "for i in range(6):  #i라는 변수를 가지고 6번 반복한다.\n",
        "  t.forward(100) 100픽셀 앞으로 전진\n",
        "  t.left(360/6)  #360나누기6으로 한 소수점을 포함한 각도로 왼쪽으로 돌린다."
      ],
      "execution_count": null,
      "outputs": []
    },
    {
      "cell_type": "code",
      "metadata": {
        "id": "zOujuXLKEAO6"
      },
      "source": [
        "import turtle #turtle 모듈을 불러온다.\n",
        "t = turtle.Turtle()  #turtle을 t로 선언한다.\n",
        "t.shape(\"turtle\") #turtle모듈의 아이콘을 거북이 모양으로 선언한다.\n",
        "\n",
        "s= turtle.textinput(\"\",\"몇각형을 원하시나요?: \")  #s의 변수에 몇각형인지 텍스트를 선언한다.\n",
        "n=int(S) #n의 변수에 s의 숫자를 선언한다.\n",
        "s= turtle.textinput(\"\",\"한변의 크기를 입력해주세요: \") #s의 변수에 한변의 크기를 선언한다.\n",
        "len = int(S) #len의 변수에 s를 선언한다.\n",
        "for i in range(n):  #i라는 변수를 n번 반복한다.\n",
        "  t.forward(len)  #len의 길이만큼 앞으로 전진한다.\n",
        "  t.left(360/n)  #360나누기n의 각도만큼 왼쪽으로 회전한다."
      ],
      "execution_count": null,
      "outputs": []
    },
    {
      "cell_type": "code",
      "metadata": {
        "id": "27_2785JEAfe"
      },
      "source": [
        "import turtle  #turtle 모듈을 불러온다.\n",
        "import random  #random 함수를 불러온다.\n",
        "t= turtle.Turtle()  #turtle을 t로 선언한다.\n",
        "t.shape(\"turtle\")   #turtle모듈의 아이콘을 거북이 모양으로 선언한다.\n",
        "\n",
        "for i in range(30):  #i라는 변수를 30번 반복한다.\n",
        "  length = random.randint(1,100)  #length라는 변수에 1에서100까지 랜덤으로 불러온다.\n",
        "  t.forward(length)  #length라는 변수만큼 앞으로 전진한다.\n",
        "  angle = random.randint(1,4)  #angle이라는 변수에 1부터 4까지 랜덤으로 불러온다.\n",
        "  t.right(90*angle)  #90도에 angle만큼 곱한 수만큼 오른쪽으로 돌린다."
      ],
      "execution_count": null,
      "outputs": []
    },
    {
      "cell_type": "code",
      "metadata": {
        "id": "AIzwoEnhEAme",
        "colab": {
          "base_uri": "https://localhost:8080/"
        },
        "outputId": "66461bdb-bd8c-41a1-a6df-3ff4643a9a01"
      },
      "source": [
        "i =1  #i라는 변수에 1을 선언\n",
        "while i <=9: #i가 9보다 작거나 같을 때\n",
        "  j = 1 #j라는 변수에 1을 선언한다.\n",
        "  while j <= 9:  #j가 9보다 작거나 같을때\n",
        "    print(i,\"*\",j, \"=\", i*j)  #i*j = i*j의 식으로 나타낸다.\n",
        "    j = j+1 #j를 j+1로 선언한다.\n",
        "  print(\" \")  \n",
        "  i = i+1  #i= i+1로 나온다."
      ],
      "execution_count": 2,
      "outputs": [
        {
          "output_type": "stream",
          "name": "stdout",
          "text": [
            "1 * 1 = 1\n",
            "1 * 2 = 2\n",
            "1 * 3 = 3\n",
            "1 * 4 = 4\n",
            "1 * 5 = 5\n",
            "1 * 6 = 6\n",
            "1 * 7 = 7\n",
            "1 * 8 = 8\n",
            "1 * 9 = 9\n",
            " \n",
            "2 * 1 = 2\n",
            "2 * 2 = 4\n",
            "2 * 3 = 6\n",
            "2 * 4 = 8\n",
            "2 * 5 = 10\n",
            "2 * 6 = 12\n",
            "2 * 7 = 14\n",
            "2 * 8 = 16\n",
            "2 * 9 = 18\n",
            " \n",
            "3 * 1 = 3\n",
            "3 * 2 = 6\n",
            "3 * 3 = 9\n",
            "3 * 4 = 12\n",
            "3 * 5 = 15\n",
            "3 * 6 = 18\n",
            "3 * 7 = 21\n",
            "3 * 8 = 24\n",
            "3 * 9 = 27\n",
            " \n",
            "4 * 1 = 4\n",
            "4 * 2 = 8\n",
            "4 * 3 = 12\n",
            "4 * 4 = 16\n",
            "4 * 5 = 20\n",
            "4 * 6 = 24\n",
            "4 * 7 = 28\n",
            "4 * 8 = 32\n",
            "4 * 9 = 36\n",
            " \n",
            "5 * 1 = 5\n",
            "5 * 2 = 10\n",
            "5 * 3 = 15\n",
            "5 * 4 = 20\n",
            "5 * 5 = 25\n",
            "5 * 6 = 30\n",
            "5 * 7 = 35\n",
            "5 * 8 = 40\n",
            "5 * 9 = 45\n",
            " \n",
            "6 * 1 = 6\n",
            "6 * 2 = 12\n",
            "6 * 3 = 18\n",
            "6 * 4 = 24\n",
            "6 * 5 = 30\n",
            "6 * 6 = 36\n",
            "6 * 7 = 42\n",
            "6 * 8 = 48\n",
            "6 * 9 = 54\n",
            " \n",
            "7 * 1 = 7\n",
            "7 * 2 = 14\n",
            "7 * 3 = 21\n",
            "7 * 4 = 28\n",
            "7 * 5 = 35\n",
            "7 * 6 = 42\n",
            "7 * 7 = 49\n",
            "7 * 8 = 56\n",
            "7 * 9 = 63\n",
            " \n",
            "8 * 1 = 8\n",
            "8 * 2 = 16\n",
            "8 * 3 = 24\n",
            "8 * 4 = 32\n",
            "8 * 5 = 40\n",
            "8 * 6 = 48\n",
            "8 * 7 = 56\n",
            "8 * 8 = 64\n",
            "8 * 9 = 72\n",
            " \n",
            "9 * 1 = 9\n",
            "9 * 2 = 18\n",
            "9 * 3 = 27\n",
            "9 * 4 = 36\n",
            "9 * 5 = 45\n",
            "9 * 6 = 54\n",
            "9 * 7 = 63\n",
            "9 * 8 = 72\n",
            "9 * 9 = 81\n",
            " \n"
          ]
        }
      ]
    },
    {
      "cell_type": "code",
      "metadata": {
        "id": "eOlwDFj_EAsn"
      },
      "source": [
        "import turtle #turtle모듈을 불러온다.\n",
        "t = turtle.Turtle()  #turtle모듈을 t로 선언한다. \n",
        "t.shape(\"turtle\")  #turtle모듈의 아이콘을 거북이로 바꾼다.\n",
        "\n",
        "i = 0  #i를 0으로 선언한다.\n",
        "while i < 5:  #만약 i가 5보다 작다면\n",
        "  t.forward(50)  #50픽셀 앞으로 전진\n",
        "  t.right(144)  #144도로 오른쪽 회전"
      ],
      "execution_count": null,
      "outputs": []
    },
    {
      "cell_type": "code",
      "metadata": {
        "id": "sZbYHPYhFaQ6"
      },
      "source": [
        "import turtle  #turtle모듈을 불러온다.\n",
        "import random  #random으로 불러온다.\n",
        "\n",
        "#색상은 리스트에 저장했다가 하나씩 꺼내서 변경하도록 하자.\n",
        "corlors = [\"red\",\"pruple\",\"blue\",\"green\", \"yellow\",\"orange\"]\n",
        "t = turtle.Turtle()\n",
        "\n",
        "#배경색은 다음과 같은 문장으로 변경이 가능하다.\n",
        "turtle.bgcolor(\"black\")\n",
        "\n",
        "#거북이의 속도는 0으로 설정하면 최대가 된다.\n",
        "t.speed(0)\n",
        "\n",
        "#거북이가 그리는 선의 두께는 width()를 호출하면 된다.\n",
        "t.width(3)\n",
        "\n",
        "#초기 선의 길이는 10으로 한다.\n",
        "length = 10\n",
        "\n",
        "#while 반복문이다. 선의 길이가 500보다 작으면 반복한다.\n",
        "while length , 500:\n",
        "  t.forward(length)    #length만큼 전진한다.\n",
        "  t.pencolor(colors[length%6])  #선의 색상을 변경한다.\n",
        "  angle = random.randint(1,100)  #angle을 1에서 100사이에 아무거나 불러온다.\n",
        "  t.right(angle)  #랜덤한 각도로 회전한다.\n",
        "  length += 5   # 선의 길이를 5만큼 증가한다."
      ],
      "execution_count": null,
      "outputs": []
    },
    {
      "cell_type": "code",
      "metadata": {
        "id": "_wFUvMlJGnMx"
      },
      "source": [
        "import random  #random 모듈을 불러온다.\n",
        "\n",
        "tries = 0   #tries를 0으로 선언\n",
        "guess = 0   #guess를 0으로 선언\n",
        "answer = random.randint(1,100)   #answer을 1에서 100사이에 아무거나 불러옴.\n",
        "\n",
        "print(\"1부터 100 사이의 숫자를 맞추시오: \")   #1부터 100사이의 숫자를 맞추시오를 출력함.\n",
        "\n",
        "while guess != answer:  #사용자로부터 숫자를 guess로 입력받는다.\n",
        "  if tries < 10:  #tries가 10보다 작다면\n",
        "    guess = int(input(\"숫자를 입력하시오: \"))  #guess를 숫자를 입력받는다.\n",
        "    tries = tries + 1  #tries를 tries + 1 로 선언한다.\n",
        "    if guess < answer:  #만약 guess가 answer보다 작다면\n",
        "      print(\"낮음!\")  #낮음!이라고 출력한다.\n",
        "    elif guess > answer:  #guess가 answer보다 크다면\n",
        "      print(\"높음!\") #높음!이라고 출력한다.\n",
        "  else: #앞의 내용 다 아니라면\n",
        "    print(\"시도횟수를 초과하였습니다.\")  #시도횟수를 초과하였습니다.라고 출력한다.\n",
        "    break  #쉰다.\n",
        "\n",
        "if guess == answer:  #만약 guess가 answer과 똑같다면\n",
        "  print(\"축하합니다. 시도횟수= \", tries)  #축하합니다.를 출력하며 시도횟수를 나타낸다.\n",
        "else:  #똑같지 않다면\n",
        "  print(\"정답은 \", answer)  #정답은 answer이다 라고 밝힌다."
      ],
      "execution_count": null,
      "outputs": []
    },
    {
      "cell_type": "code",
      "metadata": {
        "id": "RME2njh3MD1v"
      },
      "source": [
        "import random  #random모듈을 불러온다.\n",
        "\n",
        "while True:   #True가 작동한다.\n",
        "  q = random.randint(0,1)  #변수 q는 0에서 1까지 랜덤이다.\n",
        "  x = random.randint(1,100)  #x는 1에서 100까지 랜덤이다.\n",
        "  y = random.randint(1,100)   #y는 1에서 100까지 랜덤이다.\n",
        "  if (q == 1) & (x > y):  #q는 1과 같고 x는 y보다 크다면\n",
        "    print(x, \"-\", y, \"=\", end= \" \")   #x - y = 답이다.\n",
        "    answer = int(input())  #answer이라는 변수에 숫자를 입력받는다.\n",
        "    if answer == x - y: #만약 answer이 x-y와 같다면\n",
        "       print(\"잘했어요!!\")  #잘했어요 라는 문장을 출력한다.\n",
        "    else: print(\"다음번에는 잘할 수 있죠?\") #위의 문장이 아니라면 다음번에는 잘할 수 있죠?란 문장 출력한다.\n",
        "\n",
        " else: #위의 것이 아니라면\n",
        "   print(x, \"+\", y, \"=\", end= \" \")   #이렇게 출력한다.\n",
        "   answer = int(input())   #answer이란 변수에 숫자를 입력받는다.\n",
        "   if answer == x + y:  #만약 answer이 x+y와 같다면\n",
        "      print(\"잘했어요!!\") #출력한다\n",
        "   else:#아니라면\n",
        "      print(\"다음번에는 잘할 수 있죠?\")  #출력한다."
      ],
      "execution_count": null,
      "outputs": []
    },
    {
      "cell_type": "code",
      "metadata": {
        "colab": {
          "background_save": true,
          "base_uri": "https://localhost:8080/"
        },
        "id": "587q7ShTNkLO",
        "outputId": "3cf1196b-b9f5-4a0d-ce48-c476b512f968"
      },
      "source": [
        "import random  #random모듈을 불러온다.\n",
        "number = random.randint(1,8)  #number이란 변수에 1에서 8까지 중 아무거나 받는다.\n",
        "\n",
        "list = [\"한 점의 의심도 없이 맞습니다.\", \"할 수 있습니다.\", \"물론입니다.\", \"글쎄요. 열심히 해야 할 것입니다.\", \"안 될 것 같습니다.\", \"조금 더 노력하세요.\", \"행운을 빕니다.\", \"다음 달에 할 수 있을 겁니다.\"]\n",
        "\n",
        "while True: #진짜라면\n",
        "  name = input(\"이름: (종료하려면 엔터키) \")  #name이라는 변수에 이름을 입력한다.\n",
        "  if name == '':  #만약 이름이 이것이라면\n",
        "     break;#쉬기\n",
        "  question = input(\"무엇에 대하여 알고 싶은가요? \")  #question이라는 변수에 무엇을 입력받는다.\n",
        "  print(name, \"님\", \"\\\"\", question ,\"\\\"에 대하여 질문 주셨군요.\") #출력받는다.\n",
        "  print(\"운명의 주사위를 굴려볼게요...\") #출력받는다.\n",
        "  print(list[number-1]) #출력받는다."
      ],
      "execution_count": null,
      "outputs": [
        {
          "name": "stdout",
          "output_type": "stream",
          "text": [
            "심예은 님 \" 저는 잘 할 수 있을까요? \"에 대하여 질문 주셨군요.\n",
            "운명의 주사위를 굴려볼게요...\n",
            "할 수 있습니다.\n"
          ]
        }
      ]
    },
    {
      "cell_type": "code",
      "metadata": {
        "id": "2-k2inVjOCf8"
      },
      "source": [
        ""
      ],
      "execution_count": null,
      "outputs": []
    }
  ]
}