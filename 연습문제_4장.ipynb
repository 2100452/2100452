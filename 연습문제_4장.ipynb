{
  "nbformat": 4,
  "nbformat_minor": 0,
  "metadata": {
    "colab": {
      "name": "연습문제 4장.ipynb",
      "provenance": [],
      "authorship_tag": "ABX9TyNNMSIi7h6wscVQNmjC6Tq0",
      "include_colab_link": true
    },
    "kernelspec": {
      "name": "python3",
      "display_name": "Python 3"
    },
    "language_info": {
      "name": "python"
    }
  },
  "cells": [
    {
      "cell_type": "markdown",
      "metadata": {
        "id": "view-in-github",
        "colab_type": "text"
      },
      "source": [
        "<a href=\"https://colab.research.google.com/github/2100452/2100452/blob/main/%EC%97%B0%EC%8A%B5%EB%AC%B8%EC%A0%9C_4%EC%9E%A5.ipynb\" target=\"_parent\"><img src=\"https://colab.research.google.com/assets/colab-badge.svg\" alt=\"Open In Colab\"/></a>"
      ]
    },
    {
      "cell_type": "markdown",
      "source": [
        "왜 다음과 같은 수식이 오류를 발생시키는가?올바르게 수정하라."
      ],
      "metadata": {
        "id": "bSO59RDBYna3"
      }
    },
    {
      "cell_type": "code",
      "execution_count": 2,
      "metadata": {
        "colab": {
          "base_uri": "https://localhost:8080/",
          "height": 35
        },
        "id": "Z4mxxAOtWYUf",
        "outputId": "d373f62a-8fb1-4eca-fb6b-8b8dada7c67e"
      },
      "outputs": [
        {
          "output_type": "execute_result",
          "data": {
            "application/vnd.google.colaboratory.intrinsic+json": {
              "type": "string"
            },
            "text/plain": [
              "'나는 12개의 사과를 먹었다.'"
            ]
          },
          "metadata": {},
          "execution_count": 2
        }
      ],
      "source": [
        "'나는 ' + str(12) + '개의 사과를 먹었다.' #문자열과 숫자는 합칠 수 없다. 숫자를 문자열로 변환한 후에 문자열과 합쳐야 한다. "
      ]
    },
    {
      "cell_type": "markdown",
      "source": [
        " 다음과 같은 수식을 계산하면 결과는 무엇인가?"
      ],
      "metadata": {
        "id": "uI_MatsRYvdQ"
      }
    },
    {
      "cell_type": "code",
      "source": [
        "print('apple' + 'grape')  #(문자열+문자옅)하면 두 개의 문자열이 합쳐진다.\n",
        "print('appIe' * 3)  # (문자열*n)하면 문자옅이 반복된다."
      ],
      "metadata": {
        "colab": {
          "base_uri": "https://localhost:8080/"
        },
        "id": "Ip5P1hi6Yu26",
        "outputId": "35b10c8c-0b3c-4cd6-a7f7-a89b82120415"
      },
      "execution_count": 4,
      "outputs": [
        {
          "output_type": "stream",
          "name": "stdout",
          "text": [
            "applegrape\n",
            "appIeappIeappIe\n"
          ]
        }
      ]
    },
    {
      "cell_type": "markdown",
      "source": [
        "다음과 같이 사용자가 입력한 문자열 중에서 처음 2글자와 마지막2글자를 추출한 후에 이들을 합쳐서 출력해보자"
      ],
      "metadata": {
        "id": "pls118ufYxGg"
      }
    },
    {
      "cell_type": "code",
      "source": [
        "str = input(\"문자열을 입력하시오: \") #문자열을 입력한다.\n",
        "s = str[0:2] + str[-2:]  #처음 2글자는 s[0:2]로 추출할 수 있다. 마지막 2글자는 s[-2:]으로 추출이 가능하다.\n",
        "\n",
        "print(s) #변수 s를 출력한다."
      ],
      "metadata": {
        "id": "xdEzhrHYYxS5"
      },
      "execution_count": null,
      "outputs": []
    },
    {
      "cell_type": "markdown",
      "source": [
        "다음과 같이 사용자가 입력한 문자열 뒤에 항상 \"하는 중\"를 붙이는 프로그램을 작성해보자."
      ],
      "metadata": {
        "id": "IPga6EkBYxbp"
      }
    },
    {
      "cell_type": "code",
      "source": [
        "s=input(\"문자열을 입력하시오: \") #s에 문자를 입력함\n",
        "s += \"하는 중\"  # 입력한 문자열 뒤에 하는 중을 붙임\n",
        "print(s)  #s를 출력시킨다."
      ],
      "metadata": {
        "id": "YaqTp9-3Yxke"
      },
      "execution_count": null,
      "outputs": []
    },
    {
      "cell_type": "markdown",
      "source": [
        "사용자가 입력한 기호 안에 문자열을 삽입하려면 어떻게 해야하는가? 기호는 문자2개로 이루어있다고 가정한다."
      ],
      "metadata": {
        "id": "Pu6Q99AIYxuY"
      }
    },
    {
      "cell_type": "code",
      "source": [
        "str=input(\"기호를 입력하시오: \")  #기호을 입력한다.\n",
        "word=input(\"중간에 삽입할 문자열을 입력하시오: \")  #word라는 변수에 문자열을 입려한다. \n",
        "s = str[:1] + word + str[1:]  #처음 1글자는 str[:1]로 추출하고, word가 온뒤, 마지막 1글자는 [1:]로 추출함\n",
        "\n",
        "print(s)  #출력한다."
      ],
      "metadata": {
        "id": "1LEU8LTFYx0X"
      },
      "execution_count": null,
      "outputs": []
    },
    {
      "cell_type": "markdown",
      "source": [
        "4개의 숫자가 들어 있는 리스트가 있다. 리스트 안의 숫자들을 꺼내서 합계를 계산하여\n",
        "출력하는 프로그램을 작성하라 반복문은 사용하지 않는다 리스트의 길이는 항상 4라고 가정한다."
      ],
      "metadata": {
        "id": "he4xToDUYx53"
      }
    },
    {
      "cell_type": "code",
      "source": [
        "lista = [1, 2, 3, 4]  #리스트에 4개의 숫자를 넣는다.\n",
        "sum = 0  #sum인 변수에 0을 선언\n",
        "sum = lista[0] + lista[1] + lista[2] + lista[3]  #sum은 각각의 리스트에 하나씩 넣어서 더한다.\n",
        "print(\"리스트 = \", lista)  #리스트의 값은?\n",
        "print(\"리스트 숫자들의 합 = \", sum)  #리스트의 숫자의 합을 보여줌"
      ],
      "metadata": {
        "id": "vHnl_6SJYyAH"
      },
      "execution_count": null,
      "outputs": []
    },
    {
      "cell_type": "markdown",
      "source": [
        "사용지가 입력하는 3가지 색상을 리스트에 저장하였다가 하나씩 꺼내서 그 색상으로 채워진 원을 그리는 프로그램을 작성해보자 반복문은 사용하지 않는다 채워진 원을 그리려면 다음과 같은 문장들을 사용한다"
      ],
      "metadata": {
        "id": "Xa5bZcnCZhQP"
      }
    },
    {
      "cell_type": "code",
      "source": [
        "import turtle  #turtle모듈을 불러온다.\n",
        "t = turtle.Turtle()  #turtle을 t로 선언한다.\n",
        "t.shape(\"turtle\")   #turtle의 이미지를 거북이로 바꾼다.\n",
        "\n",
        "lista = [ ]  #lista의 리스트\n",
        "color = input(\"색상 #1을 입력하시오: \")  #색상을 입력\n",
        "lista.append(color)  #list에 색상을 추가한다.\n",
        "color = input(\"색상 #2을 입력하시오: \")  #색상을 입력\n",
        "lista.append(color)  #list에 색상을 추가한다.\n",
        "color = input(\"색상 #3을 입력하시오: \")  #색상을 입력\n",
        "lista.append(color)  #list에 색상을 추가한다.\n",
        "t.fillcolor(lista[0]) #리스트 0번에 해당하는 색깔로 거북이를 채운다.\n",
        "t.begin_fill()  #채우기 시작한다.\n",
        "t.circle(50)  #반지름 50인 원을 그린다.\n",
        "t.end_fill()  #채우기를 끝낸다.\n",
        "\n",
        "t.up()  #펜을 들어올린다.\n",
        "t.goto(100, 0)  #(100,0)지점으로 옮긴다.\n",
        "t.down() #펜을 내린다.\n",
        "t.fillcolor(lista[1])  #lista[1]에 해당되는 색깔로 채운다.\n",
        "t.begin_fill() #색깔을 채우기 시작\n",
        "t.circle(50)  #반지름 50인 원을 그린다.\n",
        "t.end_fill()  #색깔 채우기를 그만한다.\n",
        "\n",
        "t.up() #펜을 들어올린다.\n",
        "t.goto(200, 0)  #(200,0)지점으로 옮긴다.\n",
        "t.down()  #펜을 내린다.\n",
        "t.fillcolor(lista[2])  #ilsta[2]에 해당하는 색깔을 칠한다.\n",
        "t.begin_fill()  #채우기 시작한다.\n",
        "t.circle(50)  #반지름 50되는 원을 그린다.\n",
        "t.end_fill()  #채우기 그만한다.\n",
        "t._screen.exitonclick() # 화면을 마우스로 클릭해야 종료되게 하는 부분"
      ],
      "metadata": {
        "id": "I-nUE6UdZhYK"
      },
      "execution_count": null,
      "outputs": []
    },
    {
      "cell_type": "markdown",
      "source": [
        "사용자가 입력하는 3개의 좌표(x, y)를 리스트에 저장한다 이들 좌표를 꺼내서 거북이를 이동하는 프로그램을 작성해보자"
      ],
      "metadata": {
        "id": "4T6RT4hBZkoN"
      }
    },
    {
      "cell_type": "code",
      "source": [
        "import turtle  #turtle모듈을 불러온다.\n",
        "t = turtle.Turtle()   #turtle을 t로 선언한다.\n",
        "t.shape(\"turtle\")  #turtle의 이미지를 거북이로 바꾼다.\n",
        "\n",
        "lista = [ ] #list를 불러온다.\n",
        "lista.append(int(input(\"x1: \")))   #x1에 리스트를 추가한다.\n",
        "lista.append(int(input(\"y1: \")))   #y1에 리스트를 추가한다.\n",
        "lista.append(int(input(\"x2: \")))   #x2에 리스트를 추가한다.\n",
        "lista.append(int(input(\"y2: \")))   #y2에 리스트를 추가한다.\n",
        "lista.append(int(input(\"x3: \")))   #x3에 리스트를 추가한다.\n",
        "lista.append(int(input(\"y3: \")))   #y3에 리스트를 추가한다.\n",
        "\n",
        "t.goto(lista[0], lista[1]) #리스트에 해당하는 곳에 거북이를 이동시킨다.\n",
        "t.goto(lista[2], lista[3])  #리스트에 해당하는 곳에 거북이를 이동시킨다.\n",
        "t.goto(lista[4], lista[5]) #리스트에 해당하는 곳에 거북이를 이동시킨다.\n",
        "t._screen.exitonclick() # 화면을 마우스로 클릭해야 종료되게 하는 부분"
      ],
      "metadata": {
        "id": "DQF6fXUka85i"
      },
      "execution_count": null,
      "outputs": []
    }
  ]
}