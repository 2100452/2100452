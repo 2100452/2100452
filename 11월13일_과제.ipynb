{
  "nbformat": 4,
  "nbformat_minor": 0,
  "metadata": {
    "colab": {
      "name": "11월13일 과제.ipynb",
      "provenance": [],
      "toc_visible": true,
      "authorship_tag": "ABX9TyNxMj4wcGE3Vc8yPRQS4pzN",
      "include_colab_link": true
    },
    "kernelspec": {
      "name": "python3",
      "display_name": "Python 3"
    },
    "language_info": {
      "name": "python"
    }
  },
  "cells": [
    {
      "cell_type": "markdown",
      "metadata": {
        "id": "view-in-github",
        "colab_type": "text"
      },
      "source": [
        "<a href=\"https://colab.research.google.com/github/2100452/2100452/blob/main/11%EC%9B%9413%EC%9D%BC_%EA%B3%BC%EC%A0%9C.ipynb\" target=\"_parent\"><img src=\"https://colab.research.google.com/assets/colab-badge.svg\" alt=\"Open In Colab\"/></a>"
      ]
    },
    {
      "cell_type": "markdown",
      "metadata": {
        "id": "5n4R1IWxJVox"
      },
      "source": [
        "수업을 활용하여 A,B,C로 나누어 합격을 나눠보기"
      ]
    },
    {
      "cell_type": "markdown",
      "metadata": {
        "id": "Ln9d9yvaMCEJ"
      },
      "source": [
        "# 수업활용\n",
        "수업을 활용하여 A,B,C로 나누어 합격을 나눠보기\n",
        "\n"
      ]
    },
    {
      "cell_type": "code",
      "metadata": {
        "colab": {
          "base_uri": "https://localhost:8080/"
        },
        "id": "yMXfqWD5KKiA",
        "outputId": "d66c8752-5fdf-480d-d662-ea5db7eda6e8"
      },
      "source": [
        "score=int(input(\"성적을 입력하시오: \"))\n",
        "if score >=90:\n",
        "  print(\"점수: 'A'로 합격하셨습니다.\")\n",
        "if score >=80:\n",
        "  print(\"점수: 'B'로 합격하셨습니다.\")\n",
        "else:\n",
        "  print(\"점수 미달로 불합격하셨습니다.\")"
      ],
      "execution_count": 2,
      "outputs": [
        {
          "output_type": "stream",
          "name": "stdout",
          "text": [
            "성적을 입력하시오: 88\n",
            "점수: 'B'로 합격하셨습니다.\n"
          ]
        }
      ]
    }
  ]
}