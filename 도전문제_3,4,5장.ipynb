{
  "nbformat": 4,
  "nbformat_minor": 0,
  "metadata": {
    "colab": {
      "name": "도전문제 3,4,5장",
      "provenance": [],
      "collapsed_sections": [],
      "authorship_tag": "ABX9TyOzJbrhaS7USHCtiU/PgsAt",
      "include_colab_link": true
    },
    "kernelspec": {
      "name": "python3",
      "display_name": "Python 3"
    },
    "language_info": {
      "name": "python"
    }
  },
  "cells": [
    {
      "cell_type": "markdown",
      "metadata": {
        "id": "view-in-github",
        "colab_type": "text"
      },
      "source": [
        "<a href=\"https://colab.research.google.com/github/2100452/2100452/blob/main/%EB%8F%84%EC%A0%84%EB%AC%B8%EC%A0%9C_3%2C4%2C5%EC%9E%A5.ipynb\" target=\"_parent\"><img src=\"https://colab.research.google.com/assets/colab-badge.svg\" alt=\"Open In Colab\"/></a>"
      ]
    },
    {
      "cell_type": "markdown",
      "metadata": {
        "id": "yggINRGd-00h"
      },
      "source": [
        ""
      ]
    },
    {
      "cell_type": "markdown",
      "metadata": {
        "id": "P0BA5ouO-1aq"
      },
      "source": [
        "# 제 3장 계산해봅시다. : 도전문제\n",
        "**도전문제** 총 재료 비용이 100.000원이었다고 하자. 이익을 계산해보자. 적자인지 흑자인지를 표시하라.\n",
        "\n",
        "```\n",
        "total = 100000  \n",
        "americano_price = 2000\n",
        "cafelatte_price = 3000\n",
        "capucino_price = 3500\n",
        "\n",
        "americanos = int(input(\"아메리카노 판매 개수: \"))\n",
        "cafelattes = int(input(\"카페라테 판매 개수: \"))\n",
        "capucinos = int(input(\"카푸치토 판매 개수: \"))\n",
        "\n",
        "sales = americanos*americano_price\n",
        "sales = sales + cafelattes * cafelatte_price\n",
        "sales = sales + capucinos * capucino_price\n",
        "print(\"총 매출은\", sales, \"입니다.\")\n",
        "\n",
        "if (total < sales) : print(\"흑자입니다.\")\n",
        "else : print(\"적자입니다.\")\n",
        "```\n",
        "\n"
      ]
    },
    {
      "cell_type": "code",
      "metadata": {
        "colab": {
          "base_uri": "https://localhost:8080/"
        },
        "id": "eMNzMPAqAYep",
        "outputId": "ff9ed2f6-8f15-4893-ac8a-1cb7d4b38c1d"
      },
      "source": [
        "total = 100000   #총 비용이 100000이라고 total를 변수로 해보자\n",
        "americano_price = 2000  #아메리카노 가격을 2000원이라고 하자\n",
        "cafelatte_price = 3000    #카페라테 가격을 3000원이라고 하자\n",
        "capucino_price = 3500     #카푸치노 가격을 3500원이라고 하자\n",
        "\n",
        "americanos = int(input(\"아메리카노 판매 개수: \"))  #아메리카노 판매 개수를 입력하도록 해보자.\n",
        "cafelattes = int(input(\"카페라테 판매 개수: \"))    #카페라테 판매 개수를 입력하도록 해보자.\n",
        "capucinos = int(input(\"카푸치노 판매 개수: \"))     #카푸치노 판매 개수를 입력하도록 해보자.\n",
        "\n",
        "sales = americanos*americano_price      #아메리카노 개수와 가격을 곱하여 가격을 낸다.\n",
        "sales = sales + cafelattes * cafelatte_price   #앞의 가격과 카푸치노의 총 가격을 더하여 가격을 낸다.\n",
        "sales = sales + capucinos * capucino_price   #앞의 가격과 카푸치노의 총 가격을 더하여 가격을 낸다.\n",
        "print(\"총 매출은\", sales, \"입니다.\")    #총 매출을 나타내어 출력한다.\n",
        "\n",
        "if (total < sales) : print(\"흑자입니다.\")   #만약 총가격이 총 재료 가격보다 크다면 흑자라고 출력한다. \n",
        "else : print(\"적자입니다.\")   #앞의 경우가 아니라면 적자입니다라고 출력한다."
      ],
      "execution_count": 1,
      "outputs": [
        {
          "output_type": "stream",
          "name": "stdout",
          "text": [
            "아메리카노 판매 개수: 5\n",
            "카페라테 판매 개수: 9\n",
            "카푸치노 판매 개수: 1\n",
            "총 매출은 40500 입니다.\n",
            "적자입니다.\n"
          ]
        }
      ]
    },
    {
      "cell_type": "markdown",
      "metadata": {
        "id": "cfBelqRjAwwx"
      },
      "source": [
        "**도전문제** 반대로 섭씨온도를 화씨온도로 변환하는 프로그램도 작성해보자."
      ]
    },
    {
      "cell_type": "code",
      "metadata": {
        "colab": {
          "base_uri": "https://localhost:8080/"
        },
        "id": "mCd2RQ8wAuNL",
        "outputId": "90ba420c-a835-4aac-cf0b-79f35ccf0df1"
      },
      "source": [
        "ctemp = int(input(\"섭씨온도: \"))  #변수 ctemp를 명령하여 정수로 받는다.\n",
        "ftemp = 9/5*ctemp +32  #정수로 받은 ctemp를 받아 계산한다.\n",
        "print(\"화씨온도: \",ftemp)   #섭씨온도를 화씨온도로 바꿔 출력한다."
      ],
      "execution_count": null,
      "outputs": [
        {
          "output_type": "stream",
          "name": "stdout",
          "text": [
            "섭씨온도: 26\n",
            "화씨온도:  78.80000000000001\n"
          ]
        }
      ]
    },
    {
      "cell_type": "markdown",
      "metadata": {
        "id": "k-7dwBw8CB5g"
      },
      "source": [
        "**도전문제** 자판기가 만약 50원짜리 동전과 10원짜리 동전도 거슬러 줄 수 있다면 위의 코드를 어떻게 수정하여야 하는가?"
      ]
    },
    {
      "cell_type": "code",
      "metadata": {
        "colab": {
          "base_uri": "https://localhost:8080/"
        },
        "id": "oOPHwPyiCMD5",
        "outputId": "8b658728-9085-4380-b5a2-a0b1fc98f26e"
      },
      "source": [
        "money = int(input(\"투입한 돈: \"))  #money를 투입한 돈으로 선언하고 정수로 받는다.\n",
        "price = int(input(\"물건 값: \"))    #price를 물건 값으로 선언하고 정수로 받는다.\n",
        "\n",
        "change = money - price  # change를 변수로 거스름돈으로 선언한다.\n",
        "print(\"거스름돈: \",change)\n",
        "coin500s = change // 500  #500으로 나누어서 몫이 500원짜리의 개수\n",
        "change = change % 500  #500으로 나눈 나머지를 계산한다.\n",
        "coin100s = change // 100  #100으로 나누어서 몫이 100원짜리의 개수\n",
        "change = change % 100   #100으로 나눈 나머지를 계산한다.\n",
        "coin50s = change // 50  #50으로 나누어서 몫이 500원짜리의 개수\n",
        "change = change % 50   #50으로 나눈 나머지를 계산한다.\n",
        "coin10s = change // 10  #10으로 나누어서 몫이 500원짜리의 개수\n",
        "change = change % 10  #10으로 나눈 나머지를 계산한다.\n",
        "\n",
        "print(\"500원 동전의 개수: \", coin500s)  # 500원 동전의 개수를 출력한다.\n",
        "print(\"100원 동전의 개수: \", coin100s)  #100원 동전의 개수를 출력한다.\n",
        "print(\"50원 동전의 개수: \", coin50s)    #50원 동전의 개수를 출력한다.\n",
        "print(\"10원 동전의 개수:\", coin10s)    # 10원 동전의 개수를 출력한다."
      ],
      "execution_count": null,
      "outputs": [
        {
          "output_type": "stream",
          "name": "stdout",
          "text": [
            "투입한 돈: 5000\n",
            "물건 값: 3500\n",
            "거스름돈:  1500\n",
            "500원 동전의 개수:  3\n",
            "100원 동전의 개수:  0\n",
            "50원 동전의 개수:  0\n",
            "10원 동전의 개수: 0\n"
          ]
        }
      ]
    },
    {
      "cell_type": "markdown",
      "metadata": {
        "id": "P0Uvc3fMCLgx"
      },
      "source": [
        "**도전문제** 다음 프로그램 코드에 주석을 붙여보자."
      ]
    },
    {
      "cell_type": "code",
      "metadata": {
        "colab": {
          "base_uri": "https://localhost:8080/"
        },
        "id": "n8Bm1nmMHYaQ",
        "outputId": "5c4176e0-67f3-4652-f4b0-a7a973b3b620"
      },
      "source": [
        "money = int(input(\"투입한 돈: \")) #변수 money를 선언하고 정수형으로 받는다.\n",
        "price = int(input(\"물건값: \"))  #변수 price를 선언하고 정수로 받는다.\n",
        "\n",
        "change = money - price      # 거스름돈을 계산한다.\n",
        "coin500s = change // 500  #500으로 나누어서 몫이 500원짜리의 개수이다.\n",
        "change = change % 500     #500으로 나눈 나머지를 계산한다.\n",
        "coin100s = change // 100   #100으로 나누어서 몫이 100원짜리의 개수이다.\n",
        "\n",
        "print(\"500원 동전의 개수: \", coin500s)   #거슬러줄 500원짜리의 개수를 출력한다.\n",
        "print(\"100원 동전의 개수: \", coin100s)   #거슬러줄 100원짜리의 개수를 출력한다."
      ],
      "execution_count": null,
      "outputs": [
        {
          "output_type": "stream",
          "name": "stdout",
          "text": [
            "투입한 돈: 50000\n",
            "물건값: 36050\n",
            "500원 동전의 개수:  27\n",
            "100원 동전의 개수:  4\n"
          ]
        }
      ]
    },
    {
      "cell_type": "markdown",
      "metadata": {
        "id": "a7jtdKx2-1-I"
      },
      "source": [
        "# 제 4장 자료의 종류: 도전문제\n",
        "**도전문제** 사각형의 각 변에 \"안녕하세요? 홍길동씨, 터틀 인사드립니다.\"을 출력해보자."
      ]
    },
    {
      "cell_type": "code",
      "metadata": {
        "id": "mGrlHv63Jqaw"
      },
      "source": [
        "import turtle  #turtle을 불러온다.\n",
        "t = turtle.Turtle()  #turtle을 t로 선언한다.\n",
        "t.shape(\"turtle\")  #t의 모양을 turtle모양으로 불러온다.\n",
        "\n",
        "s = turtle.textinput(\",이름을 입력하시오: \")   #이름을 불러와 사용자에게 이름을 쓰도록 한다.\n",
        "\n",
        "for i in range(4):    #i라는 변수를 사용하여 반복문을 사용한다.\n",
        "  t.write(\"안녕하세요?\"+s+\"씨, 터틀 인사드립니다.\") #s의 변수에 입력한 것을 넣어 문장을 넣는다.\n",
        "  t.left(90)   #90도로 좌회전한다.\n",
        "  t.forward(100)   #100픽셀 전진한다."
      ],
      "execution_count": null,
      "outputs": []
    },
    {
      "cell_type": "markdown",
      "metadata": {
        "id": "ypFR1dMfY3z1"
      },
      "source": [
        "**도전문제** 사용자에게 다른 정보도 물어보고 친근한게 다시 답변해보자. 예를 들어서 취미에 관하여 다음과 같이 질문할 수도 있다.\n",
        "\"취미가 무엇인가요?\" \"영화 감상\"\n",
        "\"네 저도 영화 감상 좋아합니다.\""
      ]
    },
    {
      "cell_type": "code",
      "metadata": {
        "colab": {
          "base_uri": "https://localhost:8080/"
        },
        "id": "UM-aXf4pZVam",
        "outputId": "262b4c6f-15b4-45da-f343-9230d512604d"
      },
      "source": [
        "print(\"안녕하세요?\")   #안녕하세요라고 출력한다.\n",
        "name = input(\"이름이 어떻게 되시나요?\")   #사용자에게 이름을 출력하도록 시킨다.\n",
        "print(\"만나서 반갑습니다.\" + name + \"씨\")   #name이라는 변수를 넣어 문장을 출력시킨다.\n",
        "print(\"이름의 길이는 다음과 같군요:\", end = \" \")  #end가 길이를 말하도록 한다.\n",
        "print(len(name))     #name이라는 변수의 길이를 출력한다.\n",
        "age = int(input(\"나이가 어떻게 되나요? \"))   #나이를 물어보고 int라는 함수가 숫자로 출력하도록 한다.\n",
        "print(\"내년이면 \", str(age+1), \"이 되시는군요.\")   #str은 문자열로 바꾸는 함수로 age함수에 +1를 하도록 한다.\n",
        "hobby = input(\"취미가 무엇인가요?\")  #취미를 물어보도록 출력하게 한다.\n",
        "print(\"네 저도 \"+hobby+ \"좋아합니다.\")  #hobby라는 함수를 사용해 출력하도록 한다."
      ],
      "execution_count": null,
      "outputs": [
        {
          "output_type": "stream",
          "name": "stdout",
          "text": [
            "안녕하세요?\n",
            "이름이 어떻게 되시나요?심예은\n",
            "만나서 반갑습니다.심예은씨\n",
            "이름의 길이는 다음과 같군요: 3\n",
            "나이가 어떻게 되나요? 20\n",
            "내년이면  21 이 되시는군요.\n",
            "취미가 무엇인가요?피아노치기\n",
            "네 저도 피아노치기좋아합니다.\n"
          ]
        }
      ]
    },
    {
      "cell_type": "markdown",
      "metadata": {
        "id": "vxt0ulbEabi-"
      },
      "source": [
        "**도전문제** 사용자로부터 현재 날짜를 받아서 \"연/일/연도\"순으로 출력해보자."
      ]
    },
    {
      "cell_type": "code",
      "metadata": {
        "colab": {
          "base_uri": "https://localhost:8080/"
        },
        "id": "Ffj69mBMapnj",
        "outputId": "8853bb16-4280-4b29-8a64-d0eab30a9be3"
      },
      "source": [
        "year = input(\"오늘의 연도를 입력하시오: \")  #오늘의 연도를 입력하도록 사용자에게 출력시킨다.\n",
        "month = input(\"오늘의 월을 입력하시오: \")  #오늘의 월을 입력하도록 사용자에게 출력시킨다.\n",
        "date = input(\"오늘의 일을 입력하시오: \")   #오늘의 일을 입력하도록 사용자에게 출력시킨다.\n",
        "\n",
        "print(month+\"/\", date+\"/\", year)   #입력한 연도,월, 일을 다시 출력시킨다."
      ],
      "execution_count": null,
      "outputs": [
        {
          "output_type": "stream",
          "name": "stdout",
          "text": [
            "오늘의 연도를 입력하시오: 2021\n",
            "오늘의 월을 입력하시오: 11\n",
            "오늘의 일을 입력하시오: 17\n",
            "11/ 17/ 2021\n"
          ]
        }
      ]
    },
    {
      "cell_type": "markdown",
      "metadata": {
        "id": "LTs8W7GpajQ7"
      },
      "source": [
        "**도전문제** str()을 사용하지 않고 print(\"올해는\", thisYear,\"입니다.\")와 같이 쉼표를 사용하여 변수와 문자열을 동시 출력할 수 있는가? 위의 프로그램을 이런 식으로 변경해보자. 어떤 방법이 편리한가?"
      ]
    },
    {
      "cell_type": "code",
      "metadata": {
        "colab": {
          "base_uri": "https://localhost:8080/"
        },
        "id": "--CvW-Eybjyy",
        "outputId": "aac8752e-88f7-4a75-fc11-dd9c97afd0f4"
      },
      "source": [
        "import time  #time을 불러온다.\n",
        "\n",
        "now = time.time()   #now라는 변수에 time이라는 함수를 불러온다.\n",
        "thisYear = int(1970 + now//((365*24*3600)))   #thisYear이라는 변수에 올해의 연도를 출력시킨다.\n",
        "\n",
        "print(\"올해는 \",thisYear,\"입니다.\")  #thisYear변수를 사용하여 문장을 출력시킨다.\n",
        "age = int(input(\"몇 살이신지요? \"))  #사용자에게 올해 몇살인지 숫자로 출력하도록 int를 사용한다.\n",
        "print(\"2050년에는 \",(age+2050-thisYear),\"살 이시군요.\")  #2050년에 몇살이 될 지 age변수를 사용하여 식을 이용한다."
      ],
      "execution_count": null,
      "outputs": [
        {
          "output_type": "stream",
          "name": "stdout",
          "text": [
            "올해는  2021 입니다.\n",
            "몇 살이신지요? 20\n",
            "2050년에는  49 살 이시군요.\n"
          ]
        }
      ]
    },
    {
      "cell_type": "markdown",
      "metadata": {
        "id": "tB0l71Fd-2at"
      },
      "source": [
        "# 제 5 장 조건문의 활용 : 도전문제"
      ]
    },
    {
      "cell_type": "markdown",
      "metadata": {
        "id": "Qx2QkgtHdxSL"
      },
      "source": [
        "**도전문제** \"15세 이상이면 \"이 영화를 보실 수 있습니다.\" 메시지에 추가로 \"영화의 가격은 10000원입니다.\"를 출력해보자. 만약 15세 미만이면 \"이 영화를 보실 수 없습니다.\" 메시지에 추가로 \"다른 영화를 보시겠어요?\"를 출력해보자."
      ]
    },
    {
      "cell_type": "code",
      "metadata": {
        "colab": {
          "base_uri": "https://localhost:8080/"
        },
        "id": "P-73ShOQhERl",
        "outputId": "2122b4e8-1bb1-48d9-c85c-1a70d945f88a"
      },
      "source": [
        "age = int(input(\"나이를 입력하시오: \"))  #나이를 입력하도록 input함수를 사용한다.\n",
        "if age >= 15:  #if조건문을 활용하여 15살이상이라면\n",
        "  print(\"이 영화를 보실 수 있습니다. 영화의 가격은 10000원입니다.\")  #영화를 볼수 있다.\n",
        "else:  #15살 미만이라면\n",
        "  print(\"이 영화를 보실 수 없습니다. 다른 영화를 보시겠어요?\")  #불가능하다라고 할 수 있음."
      ],
      "execution_count": null,
      "outputs": [
        {
          "output_type": "stream",
          "name": "stdout",
          "text": [
            "나이를 입력하시오: 20\n",
            "이 영화를 보실 수 있습니다. 영화의 가격은 10000원입니다.\n"
          ]
        }
      ]
    },
    {
      "cell_type": "markdown",
      "metadata": {
        "id": "vrmkj5tPhagk"
      },
      "source": [
        "**도전문제**\n",
        "(1) 사용자가 \"1\" 또는 \"left\"를 입력하면 왼쪽으로 움직이고 \"r\" 또는 \"right\"를 입력하면 오른쪽으로 이동하도록 소스를 약간 변경해보자.\n",
        "(2) 사용자가 \"q\" 또는 \"quit\"를 입력했을 때, 프로그램을 종료하도록 하라."
      ]
    },
    {
      "cell_type": "code",
      "metadata": {
        "id": "y19XaVGsh2Fl"
      },
      "source": [
        "import turtle  #turtle을 불러온다.\n",
        "\n",
        "t = turtle.Turtle() #거북이를 만든다.\n",
        "t.width(3) # 거북이가 그리는 선의 두께를 3으로 한다.\n",
        "t.shape(\"turtle\")  #커서의 모양을 거북이로 바꾼다.\n",
        "t.shapesize(3,3) #거북이를 3배로 확대한다.\n",
        "\n",
        "#무한 루프이다.\n",
        "while answer:\n",
        "  command = input(\"명령을 입력하시오: \")\n",
        "  if command == \"l\" or command == \"left\":  #l 또는 left 입력하면\n",
        "      t.left(90)\n",
        "      t.forward(100)\n",
        "  if command == \"r\" or command == \"right\": #r또는 right 입력하면\n",
        "      t.right(90)\n",
        "      t.forward(100)"
      ],
      "execution_count": null,
      "outputs": []
    },
    {
      "cell_type": "code",
      "metadata": {
        "id": "yd9UAuHnlnSY"
      },
      "source": [
        "import turtle  #거북이를 호출한다.\n",
        "t = turtle.Turtle() #거북이를 만든다.\n",
        "t.width(3)  #거북이가 그리는 선의 두께를 3으로 한다.\n",
        "t.shape(\"turtle\")  #커서의 모양을 거북이로 바꾼다.\n",
        "t.shapesize(3,3)  #거북이를 3배 확대한다.\n",
        "\n",
        "flag = True\n",
        "# 루프 제어변수인 flag를 둔다.\n",
        "while flag:\n",
        "  command = input(\"명령을 입력하시오\")\n",
        "  if command == \"l\" or command == \"left\": # l 또는 left 입력하면\n",
        "      t.left(90)\n",
        "      t.forward(100)\n",
        "  if command == \"r\" or command == \"right\": # r 또는 right 입력하면\n",
        "      t.right(90)\n",
        "      t.forward(100)\n",
        "  if command == \"q\" or command == \"quit\": # q 또는 quit 입력하면\n",
        "     flag = False"
      ],
      "execution_count": null,
      "outputs": []
    },
    {
      "cell_type": "markdown",
      "metadata": {
        "id": "KORVwulwlmi-"
      },
      "source": [
        "**도전문제** 주사위 던지기 게임으로 변환해보자. random.randrange(6)하면 0에서 5까지의 정수를 랜덤하게 생성할 수 있다"
      ]
    },
    {
      "cell_type": "code",
      "metadata": {
        "colab": {
          "base_uri": "https://localhost:8080/"
        },
        "id": "DxZoAiwvqHiV",
        "outputId": "28636ac2-54ed-4de1-d4d1-840e5b24e21c"
      },
      "source": [
        "import random  #random을 불러온다.\n",
        "\n",
        "print(\"주사위 던지기 게임을 시작합니다.\")   #주사위 던지기 게임을 시작합니다.라는 문장을 출력시킨다.\n",
        "dice = random.randrange(6)+1   #dice라는 변수에 random이라는 함수를 사용한다.\n",
        "print(\"주사위 눈은 \"+str(dice)+\"입니다.\")  #dice변수를 문자열로 바꿔서 문장에 나열할 수 있도록 한다.\n",
        "print(\"게임이 종료되었습니다.\")   #게임이 종료되었습니다라는 문장도 같이 출력될 수 있도록 한다."
      ],
      "execution_count": null,
      "outputs": [
        {
          "output_type": "stream",
          "name": "stdout",
          "text": [
            "주사위 던지기 게임을 시작합니다.\n",
            "주사위 눈은 6입니다.\n",
            "게임이 종료되었습니다.\n"
          ]
        }
      ]
    },
    {
      "cell_type": "markdown",
      "metadata": {
        "id": "3TnDfz-PrU_d"
      },
      "source": [
        "**도전문제** 종달새가 6시와 9시 사이 또는 14시와 16시 사이에 노래한다고 하면 (그리고 날씨는 항상 화창하여야 한다) 위 조건식을 어떻게 변경하여야 하는가?"
      ]
    },
    {
      "cell_type": "code",
      "metadata": {
        "id": "OJU9wYwbrhxu",
        "colab": {
          "base_uri": "https://localhost:8080/"
        },
        "outputId": "e7436f93-d477-4852-a649-781c472ee269"
      },
      "source": [
        "import random  #random 함수를 불러온다.\n",
        "time = random.randint(1,24)  #time이라는 변수에 random으로 숫자를 불러오는 함수를 넣는다.\n",
        "print(\"좋은 아침입니다. 지금 시각은 \" +str(time)+ \"시 입니다.\")\n",
        "#sunny = random.choice([True,False])\n",
        "#if sunny:\n",
        "#       print(\"현재 날씨가 화창합니다.\")\n",
        "#else:\n",
        "#        print(\"현재 날씨가 화창하지 않습니다.\")\n",
        "\n",
        "#종달새가 노래를 할 것인지를 판단해보자\n",
        "if time >= 6 and time <9 and True:   # 조건문을 사용하여 시간이 6시와 9시 사이라면 \n",
        "  print(\"종달새가 노래를 한다.\")   #위 문장이 출력된다.\n",
        "\n",
        "elif time >= 14 and time <16 and True:   #아니고 14시와 16시 사이에 노래한다면.\n",
        "  print(\"종달새가 노래를 한다.\")     #이때도 노래한다고 출력한다.\n",
        "else:    #위 시간 외의 시간에 \n",
        "  print(\"종달새가 노래를 하지 않는다.\")   #노래를 하지 않는다고 말한다."
      ],
      "execution_count": null,
      "outputs": [
        {
          "output_type": "stream",
          "name": "stdout",
          "text": [
            "좋은 아침입니다. 지금 시각은 6시 입니다.\n",
            "종달새가 노래를 한다.\n"
          ]
        }
      ]
    },
    {
      "cell_type": "markdown",
      "metadata": {
        "id": "O1aZUawNeU-b"
      },
      "source": [
        "**도전문제** 아이디 검사가 종료되면 바로 패스워드 검사를 해보자. 즉 다음과 같은 출력을 가지는 프로그램을 작성한다.\n",
        "\n",
        "\n",
        "\n",
        "> 아이디를 입력하시오: sye4568; 패스워드를 입력하시오: 12345; 환영합니다.\n",
        "\n"
      ]
    },
    {
      "cell_type": "code",
      "metadata": {
        "colab": {
          "base_uri": "https://localhost:8080/"
        },
        "id": "l4HMTi6aep9b",
        "outputId": "98a768bc-8528-420a-d6bd-4ab6c4c2c69c"
      },
      "source": [
        "id = \"sye4568\"\n",
        "pw = \"12345\"\n",
        "s = input(\"아이디를 입력하시오: \")\n",
        "if s == id:    # '==' 는 파이썬에서 같다는 뜻을 가지고 있음.  사용자의 아이디를 입력하여 맞다면,\n",
        "  p = input(\"패스워드를 입력하시오: \")    # '='는 파이썬에서 대입이라는 뜻을 가짐.    아이디가 맞다면 패스워드를 입력시킨다.\n",
        "  if p == pw:      #패스워드가 그 아이디의 정보와 맞다면\n",
        "    print(\"환영합니다.\")    #환영합니다.라는 문구와 함께 로그인을 한다.\n",
        "  else:   #아이디는 맞지만 비밀번호가 맞지 않을 때,\n",
        "    print(\"비밀번호가 잘못되었습니다.\")    #비밀번호가 잘못되었습니다.라는 문구를 출력시킨다.\n",
        "else:   #위의 상황이 모두 맞지 않을 때\n",
        "  print(\"아이디를 찾을 수 없습니다.\")    #아이디가 정보와 같지 않으므로 위와 같은 문구를 출력시킨다."
      ],
      "execution_count": null,
      "outputs": [
        {
          "output_type": "stream",
          "name": "stdout",
          "text": [
            "아이디를 입력하시오: sye4568\n",
            "패스워드를 입력하시오: 7893\n",
            "비밀번호가 잘못되었습니다.\n"
          ]
        }
      ]
    },
    {
      "cell_type": "markdown",
      "metadata": {
        "id": "m6cl73IegJD-"
      },
      "source": [
        "**도전문제** 골대를 더 여러 영역으로 나누어서 게임을 다시 작성해보자. 즉 왼쪽 상단, 왼쪽 하단, 중앙, 오른쪽 상단, 오른쪽 하단 중에서 하나를 선택하도록 한다."
      ]
    },
    {
      "cell_type": "code",
      "metadata": {
        "colab": {
          "base_uri": "https://localhost:8080/"
        },
        "id": "hkOXup9sgTvx",
        "outputId": "d783c550-ee2d-4811-8f0b-1ac0f0d8fb17"
      },
      "source": [
        "import random\n",
        "options = [\"왼쪽 상단\", \"왼쪽 하단\", \"중앙\", \"오른쪽 상단\", \"오른쪽 하단\"]\n",
        "computer_choice = random.choice(options) #컴퓨터가 option의 정보들 중 랜덤으로 고른다.\n",
        "user_choice = input(\"어디를 수비하시겠어요?(왼쪽 상단, 왼쪽 하단, 중앙, 오른쪽 상단, 오른쪽 하단)\")  #컴퓨터 사용자가 이 중 하나를 고른다.\n",
        "if computer_choice == user_choice:   #만약 컴퓨터와 사용자의 선택이 일치한다면\n",
        "  print(\"수비에 성공하셨습니다.\")  #이와 같은 문구를 출력시킨다.\n",
        "else:    #다르다면\n",
        "  print(\"패널티 킥이 성공하였습니다.\")  #이와 같은 문구를 출력시킨다."
      ],
      "execution_count": null,
      "outputs": [
        {
          "output_type": "stream",
          "name": "stdout",
          "text": [
            "어디를 수비하시겠어요?(왼쪽 상단, 왼쪽 하단, 중앙, 오른쪽 상단, 오른쪽 하단)왼쪽 상단\n",
            "패널티 킥이 성공하였습니다.\n"
          ]
        }
      ]
    },
    {
      "cell_type": "markdown",
      "metadata": {
        "id": "NYBurdgNhgWK"
      },
      "source": [
        "**도전문제** 위의 프로그램에서 \"사각형\"만을 지원하고 있다. \"삼각형\", \"원\"인 경우에 도형을 그리는 코드를 추가하라."
      ]
    },
    {
      "cell_type": "code",
      "metadata": {
        "id": "_baZqzldhrGs"
      },
      "source": [
        "import turtle   #turtle를 소환한다.\n",
        "t = turtle.Turtle()    #turtle을 t로 줄여서 쓸 수 있게 한다.\n",
        "t.shape(\"turtle\")   #t를 거북이 모양으로 바꾼다.\n",
        "\n",
        "s = turtle.textinput(\"\", \"도형을 입력하시오: \")  #도형을 입력하라는 문구를 출력시킨다.\n",
        "if s == \"사각형\":   #만약 사각형이라면\n",
        "  s = turtle.textinput(\"\", \"가로: \")   # 가로의 길이를 입력시킨다.\n",
        "  w= int(s)   # 가로의 길이와 똑같이 두께도 입력한다.\n",
        "  s = turtle.textinput(\"\", \"세로: \")  #세로의 길이를 입력시킨다.\n",
        "  h = int(s)  #높이의 길이가 나돈다.\n",
        "  t.forward(w)  #w의 길이만큼 전진한다.\n",
        "  t.left(90)     #90도로 좌회전한다.\n",
        "  t.forward(h)    #h의 길이만큼 전진한다.\n",
        "  t.left(90)      #90도로 좌회전한다.\n",
        "  t.forward(w)     #w의 길이만큼 전진한다.\n",
        "  t.left(90)          #90도로 좌회전한다.\n",
        "  t.forward(h)      #h의 길이만큼 전진한다.\n",
        "elif s == \"삼각형\":   #삼각형이라고 한다면,\n",
        "  s = turtle.textinput(\"\",\"변: \")    #변의 길이를 입력시킨다.\n",
        "  l = int(s)     #변의 길이를 파이썬에서 변경한다.\n",
        "  t.forward(l) # ㅣ의 길이만큼 전진한다.\n",
        "  t.left(120)   #120도만큼 좌회전한다.\n",
        "  t.forward(l)  #l의 길이만큼 전진한다.\n",
        "  t.left(120)   #120도로 좌회전한다.\n",
        "  t.forward(l)  #l의 길이만큼 전진한다.\n",
        "elif s == \"원\":  #원이라고 한다면,\n",
        "  s = turtle.textinput(\"\", \"반지름: \")   #반지름을 입력시킨다.\n",
        "  r = int(s)   #숫자로 반지름을 변경한다.\n",
        "  t.circle(r)   #r의 길이만큼 그린다.\n",
        "else:\n",
        "  pass"
      ],
      "execution_count": null,
      "outputs": []
    }
  ]
}