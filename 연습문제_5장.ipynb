{
  "nbformat": 4,
  "nbformat_minor": 0,
  "metadata": {
    "colab": {
      "name": "연습문제 5장",
      "provenance": [],
      "collapsed_sections": [],
      "authorship_tag": "ABX9TyMLFVfVYgP8fwv14HUt3BpB",
      "include_colab_link": true
    },
    "kernelspec": {
      "name": "python3",
      "display_name": "Python 3"
    },
    "language_info": {
      "name": "python"
    }
  },
  "cells": [
    {
      "cell_type": "markdown",
      "metadata": {
        "id": "view-in-github",
        "colab_type": "text"
      },
      "source": [
        "<a href=\"https://colab.research.google.com/github/2100452/2100452/blob/main/%EC%97%B0%EC%8A%B5%EB%AC%B8%EC%A0%9C_5%EC%9E%A5.ipynb\" target=\"_parent\"><img src=\"https://colab.research.google.com/assets/colab-badge.svg\" alt=\"Open In Colab\"/></a>"
      ]
    },
    {
      "cell_type": "markdown",
      "source": [
        "다음 프로그램의 출력은 무엇인가?"
      ],
      "metadata": {
        "id": "z6gxaXoLkky4"
      }
    },
    {
      "cell_type": "code",
      "execution_count": null,
      "metadata": {
        "colab": {
          "base_uri": "https://localhost:8080/"
        },
        "id": "2sIsdDV-kMUn",
        "outputId": "49900968-a962-4d73-a028-4a0c3c717f64"
      },
      "outputs": [
        {
          "output_type": "stream",
          "name": "stdout",
          "text": [
            "20살 이상\n"
          ]
        }
      ],
      "source": [
        "age = 20   #age라는 변수에 20을 넣는다.\n",
        "if age < 20:   #age가 20보다 작다면\n",
        "  print('20살 미만')  #출력한다.\n",
        "else:  #위의 내용이 아니라면\n",
        "  print('20살 이상')  #출력한다."
      ]
    },
    {
      "cell_type": "markdown",
      "source": [
        "1번 문제에서 age가 30이상이고 50이하인 것을 체크하려면 어떻게 하여야 하는가?"
      ],
      "metadata": {
        "id": "ZBhppjOzk3My"
      }
    },
    {
      "cell_type": "code",
      "source": [
        "age = 20  # age에 20을 넣는다.\n",
        "if age >= 30 and age <= 50:   #age가 30이상이거나 50이하일경웨\n",
        "   print('30살 이상이고 50살 이하')  #출력한다."
      ],
      "metadata": {
        "id": "12K7btoDk3Ts"
      },
      "execution_count": 1,
      "outputs": []
    },
    {
      "cell_type": "markdown",
      "source": [
        "사용자에게 현재 온도를 질문하고 온도가 25도 이상이면 반바지를 추천하고 25도 미만이면 긴바지를 추천하는 프로그램을 작성해보자."
      ],
      "metadata": {
        "id": "ulW4G7vpk3aU"
      }
    },
    {
      "cell_type": "code",
      "source": [
        "temp = int(input(\"현재 온도를 입력하시오: \"))  # temp라는 변수에 사용자에게 숫자를 입력시킨다.\n",
        "if temp >= 25:    #만약 온도가 25도 이상이면\n",
        "  print(\"반바지를 입으세요\") #출력한다.\n",
        "else:   #아니라면\n",
        " print(\"긴바지를 입으세요\")  #출력한다."
      ],
      "metadata": {
        "colab": {
          "base_uri": "https://localhost:8080/"
        },
        "id": "s_zV7sHsk3nA",
        "outputId": "909e0f22-598e-4fb7-9ca7-e6c460675b9f"
      },
      "execution_count": null,
      "outputs": [
        {
          "output_type": "stream",
          "name": "stdout",
          "text": [
            "현재 온도를 입력하시오: 25\n",
            "반바지를 입으세요\n"
          ]
        }
      ]
    },
    {
      "cell_type": "markdown",
      "source": [
        "학생의 시험 점수를 물어보고 시험 점수가 90점 이상이면 A, 80점 이상이면 B, 70점 이상이면 C, 60점 이상이면D, 그외의 점수이면 F를 학점으로 주는 프로그램을 작성하라."
      ],
      "metadata": {
        "id": "EBJCk8FOk31H"
      }
    },
    {
      "cell_type": "code",
      "source": [
        "score = int(input(\"성적을 입력하시오: \"))  #사용자에게 숫자를 입력시킨다.\n",
        "\n",
        "if score >= 90:   #90점 이상이면\n",
        "   print(\"A학점입니다.\") #출력한다.\n",
        "elif score >= 80:    #if문이 안끝났을 경우 elif를 쓴다.\n",
        "   print(\"B학점입니다.\")    #출력한다.\n",
        "elif score >= 70:      #if문이 안끝났을 경우 elif를 쓴다.\n",
        "   print(\"C학점입니다.\")    #출력한다.\n",
        "elif score >= 60:     #if문이 안끝났을 경우 elif를 쓴다.\n",
        "   print(\"D학점입니다.\")   #출력한다.\n",
        "else :     #if문이 끝났을 경우 else를 쓴다.\n",
        "   print(\"F학점입니다.\")   #출력한다."
      ],
      "metadata": {
        "colab": {
          "base_uri": "https://localhost:8080/"
        },
        "id": "HwPlSYOvk37a",
        "outputId": "7625b439-0cdd-466d-afab-6e3ea3637a79"
      },
      "execution_count": null,
      "outputs": [
        {
          "output_type": "stream",
          "name": "stdout",
          "text": [
            "성적을 입력하시오: 15\n",
            "F학점입니다.\n"
          ]
        }
      ]
    },
    {
      "cell_type": "markdown",
      "source": [
        "난수를 사용하여 1부터 100사이의 숫자릍 사용하는 뺄셈 문제를 생성히고 사용자에게 물어본 후에 사용자의 답변이 올바른지를 검사하는 프로그램을 작성하라"
      ],
      "metadata": {
        "id": "Aor-_koNk4BQ"
      }
    },
    {
      "cell_type": "code",
      "source": [
        "import random  #난수 모듈을 불러온다.\n",
        "x = random.randint(1, 100)   #x의 변수에 1부터 100까지 중 아무거나 불러온다.\n",
        "y = random.randint(1, 100)   #y의 변수에 1부터 100까지 중 아무거나 불러온다.\n",
        "\n",
        "ans = int(input(str(x)+\"-\"+str(y)+\"=\")) #사용자에게 물어보는 질문이므로 문자열로 바꾸어서 물어본다.\n",
        "\n",
        "if ans == x -y :  #ans이 맞았다면\n",
        "  print(\"맞았습니다.\")   #출력한다.\n",
        "else :    #아니라면\n",
        "  print(\"틀렸습니다.\")  #출력한다."
      ],
      "metadata": {
        "colab": {
          "base_uri": "https://localhost:8080/"
        },
        "id": "4rwudNPkk4JA",
        "outputId": "d93eb06f-9318-488b-de1f-fd5b719f46b8"
      },
      "execution_count": null,
      "outputs": [
        {
          "output_type": "stream",
          "name": "stdout",
          "text": [
            "7-13=-6\n",
            "맞았습니다.\n"
          ]
        }
      ]
    },
    {
      "cell_type": "markdown",
      "source": [
        "사용자로부터 정수를받고 이 정수가 2와 3으로 나누어떨어질 수 있는지를 촐력하라"
      ],
      "metadata": {
        "id": "8Hvwxw4jk4PK"
      }
    },
    {
      "cell_type": "code",
      "source": [
        "n = int(input(\"정수를 입력하시오: \")) #사용자에게 정수를 입력시킨다.\n",
        "\n",
        "if n%2==0 and n%3==0:  #and는 두 가지 조건이 모두 해당해야 한다.\n",
        "  print(\"2와 3으로 나누어 떨어집니다.\")  #출력한다.\n",
        "else :   #모두 해당하지 않으면\n",
        "  print(\"2와 3으로 나누어 떨어지지 않습니다.\")  #출력한다."
      ],
      "metadata": {
        "colab": {
          "base_uri": "https://localhost:8080/"
        },
        "id": "PPuTofStk4WB",
        "outputId": "c9846076-f4b4-4e5c-a624-ffe47793e5ed"
      },
      "execution_count": null,
      "outputs": [
        {
          "output_type": "stream",
          "name": "stdout",
          "text": [
            "정수를 입력하시오: 26\n",
            "2와 3으로 나누어 떨어지지 않습니다.\n"
          ]
        }
      ]
    },
    {
      "cell_type": "markdown",
      "source": [
        "2자리 숫자로 이루어진 복귄이 있다 사용자가 가지고 있는 복권 번호가 2자리 모두 일치하면 100만원을 받는다. 2자리 중에서 하나만 일치하면 50만원을 받는다 하나도 일치하지 않으면 상금을 없다. 복귄 당첨 번호는 난수로 생성히고 사용자의 입력에 따라서\n",
        "상금이 얼마인지를 출럭하는 프로그랩을 작성하라"
      ],
      "metadata": {
        "id": "6VCyj3W3k4cx"
      }
    },
    {
      "cell_type": "code",
      "source": [
        "import random   #random모듈을 실행한다.\n",
        "\n",
        "solution = random.randint(0, 99)  #0에서 99까지 중 하나의 난수를 발생시킨다\n",
        "\n",
        "user = int(input(\"복권번호를 입력하시요(0에서 99사이): \"))  #사용자에게 정수를 입력시킨다.\n",
        "\n",
        "digit1 = solution // 10  #//는 정수만 나올 수 있도록 함.\n",
        "digit2 = solution % 10 \n",
        "u_digit1 = user // 10  #//는 정수만 나올 수 있도록 함.\n",
        "u_digit2 = user % 10   \n",
        "print(\"당첨번호는\", solution, \"입니다.\")  #출력한다.\n",
        "\n",
        "if (digit1 == u_digit1 and digit2 == u_digit2):    #==는 같다는 표시이고 and는 모두 해당해야 한다.\n",
        "  print(\"상금은 100만원입니다.\") #출력한다.\n",
        "elif (digit1 == u_digit1   #elif는 계속 이어가야 할 때 붙인다.  \n",
        "       or digit1 == u_digit2     #or은 아니면, \n",
        "       or digit2 == u_digit1       #or은 아니면,\n",
        "       or digit2 == u_digit2):    #or은 아니면,\n",
        "    print(\"상금은 50만원입니다.\") #출력한다.\n",
        "else:   #적는 것이 마지막이라면\n",
        "    print(\"상금은 없습니다.\")#출력한다"
      ],
      "metadata": {
        "id": "NkFpADwqk4jS",
        "colab": {
          "base_uri": "https://localhost:8080/"
        },
        "outputId": "bfec50fe-c396-46ab-ecf3-38cfeba6cb5e"
      },
      "execution_count": 3,
      "outputs": [
        {
          "output_type": "stream",
          "name": "stdout",
          "text": [
            "복권번호를 입력하시요(0에서 99사이): 5\n",
            "당첨번호는 33 입니다.\n",
            "상금은 없습니다.\n"
          ]
        }
      ]
    },
    {
      "cell_type": "markdown",
      "source": [
        "사용자로부터 2개의 원에 대한 정보를 받고 화면에 원을 그린 후에 조건문을 사용하여 큰 원 안에 작은 원이 포함되는지를 판단하는 프로그램을 작성하라"
      ],
      "metadata": {
        "id": "tjujKSrXk4rB"
      }
    },
    {
      "cell_type": "code",
      "source": [
        "import turtle  #turtle모듈을 불러온다.\n",
        "t = turtle.Turtle()   #turtle을 T로 선언\n",
        "t.shape(\"turtle\")  #turtle 이미지를 거북이로 변환한다.\n",
        "\n",
        "x1 = int(input(\"큰 원의 중심좌표 x1: \"))  #사용자에게 정수를 입력시킨다. \n",
        "y1 = int(input(\"큰 원의 중심좌표 y1: \"))   #사용자에게 정수를 입력시킨다. \n",
        "r1 = int(input(\"큰 원의 반지름: \"))  #사용자에게 정수를 입력시킨다. \n",
        "x2 = int(input(\"작은 원의 중심좌표 x2: \"))   #사용자에게 정수를 입력시킨다. \n",
        "y2 = int(input(\"작은 원의 중심좌표 y2: \"))    #사용자에게 정수를 입력시킨다. \n",
        "r2 = int(input(\"작은 원의 반지름: \"))  #사용자에게 정수를 입력시킨다. \n",
        "\n",
        "t.penup() #펜을 들어올린다.\n",
        "t.goto(x1, y1)  #입력시킨 좌표로 펜을 이동시킨다.\n",
        "t.pendown()  #펜을 내린다.\n",
        "t.circle(r1)  #r1의 반지름만큼 원을 그린다.\n",
        "\n",
        "t.penup()  #펜을 들어올린다.\n",
        "t.goto(x2, y2)  #입력시킨 좌표로 펜을 이동시킨다.\n",
        "t.pendown()  #펜을 내린다.\n",
        "t.circle(r2)  #r2의 반지름만큼 원을 그린다.\n",
        "dist = ((x1 - x2) * (x1 - x2) + (y1 - y2) * (y1 - y2)) ** 0.5  #거리를 구한다.\n",
        "\n",
        "if dist <= r1-r2:   #만약 거리가 r1-r2보다 작거나 같다면\n",
        "   turtle.write(\"두번째 원이 첫번째 원의 내부에 있습니다.\")   #turtle의 그래픽에 적는다.\n",
        "elif dist <= r1+r2:    #if문이 아니고 뒤에 문장을 이어야 한다면\n",
        "   turtle.write(\"두번째 원이 첫번째 원과 겹칩니다.\")  #출력한다\n",
        "else:  #문장이 끝났을 때\n",
        "   turtle.write(\"두번째 원이 첫번째 원과 겹치지 않습니다.\")   #출력한다.\n",
        "t._screen.exitonclick()   # 화면을 마우스로 클릭해야 종료되게 하는 부분 "
      ],
      "metadata": {
        "id": "ZOacC8Isk4xl"
      },
      "execution_count": null,
      "outputs": []
    }
  ]
}