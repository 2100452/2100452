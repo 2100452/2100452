{
  "nbformat": 4,
  "nbformat_minor": 0,
  "metadata": {
    "colab": {
      "name": "2021.11.28 과제",
      "provenance": [],
      "authorship_tag": "ABX9TyNDL3rTc8UcOVaYA3jIyeMv",
      "include_colab_link": true
    },
    "kernelspec": {
      "name": "python3",
      "display_name": "Python 3"
    },
    "language_info": {
      "name": "python"
    }
  },
  "cells": [
    {
      "cell_type": "markdown",
      "metadata": {
        "id": "view-in-github",
        "colab_type": "text"
      },
      "source": [
        "<a href=\"https://colab.research.google.com/github/2100452/2100452/blob/main/2021_11_28_%EA%B3%BC%EC%A0%9C.ipynb\" target=\"_parent\"><img src=\"https://colab.research.google.com/assets/colab-badge.svg\" alt=\"Open In Colab\"/></a>"
      ]
    },
    {
      "cell_type": "markdown",
      "metadata": {
        "id": "s5LTQwjMa_HW"
      },
      "source": [
        "**관계연산자** 관계 연산자는 두 개의 피연산자를 비교하는 연산자"
      ]
    },
    {
      "cell_type": "code",
      "metadata": {
        "id": "smxQeJ1PaPHo"
      },
      "source": [
        "x == y # x와 y가 같은가?\n",
        "x != y # x와 y가 다른가?\n",
        "x > y # x가 y보다 큰가?\n",
        "x < y # x가 y보다 작은가?\n",
        "x >= y # x가 y보다 크거나 같은가?\n",
        "x <= y # x가 y보다 작거나 같은가? "
      ],
      "execution_count": null,
      "outputs": []
    },
    {
      "cell_type": "markdown",
      "metadata": {
        "id": "MEBC5QV7bGXl"
      },
      "source": [
        "**논리 연산자의 종류** "
      ]
    },
    {
      "cell_type": "code",
      "metadata": {
        "id": "inoclj6EbZO2"
      },
      "source": [
        "x and y = AND 연산, x와 y가 모두 참이면 참, 그렇지 않으면 거짓\n",
        "x or y = OR 연산, x나 y중에서 하나만 참이면 참, 모두 거짓이면 거짓\n",
        "not x = NOT 연산, x가 참이면 거짓, x가 거짓이면 참"
      ],
      "execution_count": null,
      "outputs": []
    }
  ]
}