{
  "nbformat": 4,
  "nbformat_minor": 0,
  "metadata": {
    "colab": {
      "name": "연습문제 6장",
      "provenance": [],
      "authorship_tag": "ABX9TyOLWs3aBJBHLIXMm32dISbI",
      "include_colab_link": true
    },
    "kernelspec": {
      "name": "python3",
      "display_name": "Python 3"
    },
    "language_info": {
      "name": "python"
    }
  },
  "cells": [
    {
      "cell_type": "markdown",
      "metadata": {
        "id": "view-in-github",
        "colab_type": "text"
      },
      "source": [
        "<a href=\"https://colab.research.google.com/github/2100452/2100452/blob/main/%EC%97%B0%EC%8A%B5%EB%AC%B8%EC%A0%9C_6%EC%9E%A5.ipynb\" target=\"_parent\"><img src=\"https://colab.research.google.com/assets/colab-badge.svg\" alt=\"Open In Colab\"/></a>"
      ]
    },
    {
      "cell_type": "markdown",
      "source": [
        "2부터 100사이의 모든 짝수를 출력하는 반복루프를 작성한다."
      ],
      "metadata": {
        "id": "uzDH2O52Eeqr"
      }
    },
    {
      "cell_type": "code",
      "execution_count": 1,
      "metadata": {
        "colab": {
          "base_uri": "https://localhost:8080/"
        },
        "id": "O5NWFW-kEcd3",
        "outputId": "6072593d-8d91-44de-f3ae-54391f33037b"
      },
      "outputs": [
        {
          "output_type": "stream",
          "name": "stdout",
          "text": [
            "2 4 6 8 10 12 14 16 18 20 22 24 26 28 30 32 34 36 38 40 42 44 46 48 50 52 54 56 58 60 62 64 66 68 70 72 74 76 78 80 82 84 86 88 90 92 94 96 98 100 "
          ]
        }
      ],
      "source": [
        "for i in range(2,101): #i변수에 2에서 101까지 반복한다.\n",
        "  if i%2==0 :  #x%2한 결과가 0이면 x는 짝수이다.\n",
        "    print(i,end=\" \")  #i에서 end까지 출력한다."
      ]
    },
    {
      "cell_type": "markdown",
      "source": [
        "어떤 사람이 복리이자율 7%로 1000만원을 저금했을 경우에 2000만원이 되는뎨 몇 년\n",
        "이 걸리는지 계산히기 위하여 다음과 코드를 작성하였다. 잘못된 점은 없는지 체크해\n",
        "보자."
      ],
      "metadata": {
        "id": "P7o1nhznEfq6"
      }
    },
    {
      "cell_type": "code",
      "source": [
        "year = 0  #year에 0을 저장한다.\n",
        "balance = 1000  #balance에 1000을 저장한다.\n",
        "\n",
        "while balance <= 2000 :  #while은 어떤 조건이 만족될 때까지 만족하는 것이다.\n",
        "  year = year + 1  #year을 다시 변수를 적용한다.\n",
        "  interest = balance * 0.07  #이익이 얼마나 나오는지\n",
        "  balance = balance + interest  #balance를 다시 적용한다.\n",
        "print(year, \"년이 걸립니다.\")  #출력한다."
      ],
      "metadata": {
        "colab": {
          "base_uri": "https://localhost:8080/"
        },
        "id": "oeW66GaTEfzD",
        "outputId": "73c839ab-3ed7-49f1-f91b-99ddedd7a866"
      },
      "execution_count": 2,
      "outputs": [
        {
          "output_type": "stream",
          "name": "stdout",
          "text": [
            "11 년이 걸립니다.\n"
          ]
        }
      ]
    },
    {
      "cell_type": "markdown",
      "source": [
        "다음 코드의 출력을 예상해보자. 각 단계에서 변수의 값을 예상해보시오."
      ],
      "metadata": {
        "id": "T23gqC0IEf6s"
      }
    },
    {
      "cell_type": "code",
      "source": [
        "n = 1234\n",
        "sum = 0  #sum에는 자리수의 합이 저장된다.\n",
        "while n > 0:  #while은 어떤 조건이 만족될 때까지 반복하는 것이다.\n",
        "  digit = n % 10 # %는 나머지를 계싼하는 연산자이다. //은 나눗셈에서 몫을 계산한다.\n",
        "  sum = sum + digit  #digit는 자리수가 된다.\n",
        "  n = n // 10  #//는 나눗셈에서 몫을 계산한다.\n",
        "  print(sum)  #출력한다."
      ],
      "metadata": {
        "colab": {
          "base_uri": "https://localhost:8080/"
        },
        "id": "_EvjBxcXEgBC",
        "outputId": "94813da2-121f-412f-bb9b-60351fc117d4"
      },
      "execution_count": 3,
      "outputs": [
        {
          "output_type": "stream",
          "name": "stdout",
          "text": [
            "4\n",
            "7\n",
            "9\n",
            "10\n"
          ]
        }
      ]
    },
    {
      "cell_type": "markdown",
      "source": [
        "사용자에게 곱셈 퀴즈를 내고 탑을 사용자로부터 받는 프로그램에서 사용자가 올바른\n",
        "답을 업럭할 때까지 반복하도록 수정하여 보자"
      ],
      "metadata": {
        "id": "SLdQ1qLKEgLr"
      }
    },
    {
      "cell_type": "code",
      "source": [
        "ans = 0 #ans에 0 이란 변수를 저장한다.\n",
        "while ans != 3*9:  #\n",
        "  ans = int(input(\"3*9는\"))  #\n",
        "print(\"맞았습니다.\")  #출력한다."
      ],
      "metadata": {
        "colab": {
          "base_uri": "https://localhost:8080/"
        },
        "id": "6-Yv3yXrEgSC",
        "outputId": "534b0e50-9838-46db-cf93-4bd4c4914fee"
      },
      "execution_count": 4,
      "outputs": [
        {
          "output_type": "stream",
          "name": "stdout",
          "text": [
            "3*9는27\n",
            "맞았습니다.\n"
          ]
        }
      ]
    },
    {
      "cell_type": "markdown",
      "source": [
        "사용자가 입력한 정수의 합을 계산하는 프로그렘을 작성하자. 사용자가 O을 입력하기 전까지 정수를 계속하여 읽도록 한다"
      ],
      "metadata": {
        "id": "WFbMWE-sEgYP"
      }
    },
    {
      "cell_type": "code",
      "source": [
        "sum = 0  #sum\n",
        "while True:  #무한 루프를 돌린다.\n",
        "  x = int(input(\"정수를 입력하시오: \"))  #사용자에게 정수를 입력시킨다.\n",
        "  if x == 0:  #만약 x가 0과 같다면\n",
        "    break;  #반봅 루프를 빠져나온다.\n",
        "    sum = sum + x  #sum과 x을 더해도 sum(0)이다\n",
        "\n",
        "print(\"합은 \", sum, \"입니다.\")  #출력한다."
      ],
      "metadata": {
        "colab": {
          "base_uri": "https://localhost:8080/"
        },
        "id": "GnkWWXsFEgeS",
        "outputId": "0f127595-6bfd-48a3-ce6a-8dc9d6117c60"
      },
      "execution_count": 5,
      "outputs": [
        {
          "output_type": "stream",
          "name": "stdout",
          "text": [
            "정수를 입력하시오: 25\n",
            "정수를 입력하시오: 63\n",
            "정수를 입력하시오: 0\n",
            "합은  0 입니다.\n"
          ]
        }
      ]
    },
    {
      "cell_type": "markdown",
      "source": [
        "난수 생성 함수를 사용하여서 2개의 주사위를 던졌을 때 나오는 수를 다음와 같이 출력하여 보자."
      ],
      "metadata": {
        "id": "J8L3-suUEgk9"
      }
    },
    {
      "cell_type": "code",
      "source": [
        "from random import randint  #random 모듈을 불러온다.\n",
        "\n",
        "for i in range(3) : #3번 반복한다.\n",
        " d1 = randint(1, 6) #1부터 6까지 난수를 발생시킨다.\n",
        " d2 = randint(1, 6)  #1부터 6까지 난수를 발생시킨다.\n",
        " print(\"첫번째 주사위=\", d1, \"두번째 주사위=\", d2)  #출력한다."
      ],
      "metadata": {
        "colab": {
          "base_uri": "https://localhost:8080/"
        },
        "id": "1VqiW5lQEgrt",
        "outputId": "b0ba322c-b24d-4821-afc3-b1b814b4a6b0"
      },
      "execution_count": 6,
      "outputs": [
        {
          "output_type": "stream",
          "name": "stdout",
          "text": [
            "첫번째 주사위= 2 두번째 주사위= 6\n",
            "첫번째 주사위= 2 두번째 주사위= 2\n",
            "첫번째 주사위= 1 두번째 주사위= 4\n"
          ]
        }
      ]
    },
    {
      "cell_type": "markdown",
      "source": [
        "터틀 그래픽과 반복을 사용하여 눈모양을 그려보자."
      ],
      "metadata": {
        "id": "NjbmhqijEgxj"
      }
    },
    {
      "cell_type": "code",
      "source": [
        "import turtle  #turtle모듈을 불러온다.\n",
        "\n",
        "t = turtle.Turtle()  #turtle을 t로 선언\n",
        "t.shape(\"turtle\")  #turtle모듈의 아이콘을 거북이 모양으로 선언\n",
        "t.left(90)  #좌로 90도 회전\n",
        "\n",
        "for i in range (1,7): #i를 1부터 7까지 반복한다.\n",
        " t.forward(100)  #100픽셀 전진\n",
        " t.forward(-30)  #-30픽셀 전진\n",
        " t.left(60)  #60도 좌회전\n",
        " t.forward(30)  #30픽셀 전진\n",
        " t.forward(-30)  #-30픽셀 전진\n",
        "\n",
        " t.right(120)  #120픽셀 우회전\n",
        " t.forward(30)  #30픽셀 전진\n",
        " t.forward(-30)  #-30픽셀 전진\n",
        "\n",
        " t.left(60)  #60도 좌회전\n",
        " t.forward(-70)  #-70픽셀 전진\n",
        " t.left(60)  #60도 좌회전"
      ],
      "metadata": {
        "id": "K7vO92cKEg3i"
      },
      "execution_count": null,
      "outputs": []
    },
    {
      "cell_type": "markdown",
      "source": [
        "우리는 이번 장에서 터틀 그래픽으로 별을 그려보았다 이 코드를 응용하여서 다음과 같이 10개의 별을 그리는 프로그램을 작성하라 별들은 시작 각도가 약간씩 다르다."
      ],
      "metadata": {
        "id": "kmgcVvw0Eg9C"
      }
    },
    {
      "cell_type": "code",
      "source": [
        "import turtle  #turtle모듈 불러오기.\n",
        "\n",
        "myPen = turtle.Turtle()  #turtle을 myPen으로 선언\n",
        "myPen.speed(0)  #스피드를 0으로 빠르게 하기\n",
        "myPen.color(\"#FF0000\")  #\n",
        "\n",
        "for j in range (1,10):  #1에서 10까지 반복한다.\n",
        " for i in range (1,6):  #1에서 6까지 반복한다.\n",
        "   myPen.left(144)  #144도 좌회전\n",
        "   myPen.forward(200)  #200픽셀 전진\n",
        "  myPen.left(10)  #10도 좌회전"
      ],
      "metadata": {
        "id": "1ELLHwL3EhCv"
      },
      "execution_count": null,
      "outputs": []
    },
    {
      "cell_type": "markdown",
      "source": [
        "반복과 난수를 함께 사용하면 화면에 랜덤한 원을 그릴 수 있다. 화면에 10개의 랜덤한 원을 그리는 프로그램을 작성하라. 원의 중심과 반지름이 모두 난수이어야 한다."
      ],
      "metadata": {
        "id": "88Ih_OIEE1Bi"
      }
    },
    {
      "cell_type": "code",
      "source": [
        "import turtle  #turtle모듈을 불러온다.\n",
        "import random   #random모듈을 불러온다.\n",
        "\n",
        "t = turtle.Turtle()  #turtle을 t로 선언한다.\n",
        "t.shape(\"turtle\")  #turtle의 이미지를 거북이로 바꾼다.\n",
        "\n",
        "for j in range (1,10): #1에서부터 10까지 반복한다.\n",
        "  t.up()  #펜을 들어올린다.\n",
        "  x = random.randint(-200, 200)  #해당 좌표로 아무공간\n",
        "  y = random.randint(-200, 200)  #해당 좌표로 아무공간\n",
        "  r = random.randint(10, 200)  #해당좌표로 아무공간\n",
        "  t.goto(x, y)  #x와 y좌표에 간다.\n",
        "  t.down()  #펜을 내린다. \n",
        "  t.circle(r) #r을 반지름으로 하는 원을 그린다."
      ],
      "metadata": {
        "id": "yHdwhre_E1Rb"
      },
      "execution_count": null,
      "outputs": []
    },
    {
      "cell_type": "markdown",
      "source": [
        "다음과 같이 거북이를 왕복 달리기시키는 프로그램을 작성해보자."
      ],
      "metadata": {
        "id": "FlyuvxNsE1Z7"
      }
    },
    {
      "cell_type": "code",
      "source": [
        "import turtle   #turtle모듈을 불러온다.\n",
        "\n",
        "t = turtle.Turtle()   #turtle을 t로 선언한다.\n",
        "t.shape(\"turtle\")  #turtle의 이미지를 거북이로 바꾼다.\n",
        "\n",
        "for i in range(5):  #5번 반복한다.\n",
        " t.forward(200);  #앞으로 200픽셀 전진\n",
        " t.right(90)  #90도로 우회전\n",
        " t.forward(20);  #앞으로 20픽셀 전진\n",
        " t.right(90)  #90도로 우회전\n",
        " t.forward(200);  #앞으로 200픽셀 전진\n",
        " t.left(90)  #90도로 좌회전\n",
        " t.forward(20);  #앞으로 20픽셀 전진\n",
        " t.left(90)  #90도로 좌회전"
      ],
      "metadata": {
        "id": "m35za4cnE1jD"
      },
      "execution_count": null,
      "outputs": []
    },
    {
      "cell_type": "markdown",
      "source": [
        "다음의 터틀 그래픽 프로그램을 분석해보자. 학습하지 않은 함수가 있따면 인터넷에서 조사하여 보자."
      ],
      "metadata": {
        "id": "hPlZqLReE1q7"
      }
    },
    {
      "cell_type": "code",
      "source": [
        "import turtle #turtle모듈을 불러온다.\n",
        "t = turtle.Turtle()  #turtle을 t로 선언한다.\n",
        "t.shape(\"turtle\")  #turtle의 이미지를 거북이로 바꾼다.\n",
        "t.color('red', 'yellow')  #도형의 색상과 채우기색상을 red와 yellow로 설정한다.\n",
        "t.begin_fill()  #속이 채워진 도형이 그려진다.\n",
        "while True:   #무한 루프를 돌린다.\n",
        " t.forward(200)  #200픽셀 앞으로 전진\n",
        " t.left(170)  #170픽셀 좌로 회전\n",
        " if abs(t.pos()) < 1:  #abs()는 절대값을 계산한다.  pos() 함수는 거북이의 좌표를 반환한다.\n",
        " break  #break는 반복 루프를 빠져나오는 명령어이다.\n",
        "t.end_fill()  #끝난다."
      ],
      "metadata": {
        "id": "HerbaTjLE1x9"
      },
      "execution_count": null,
      "outputs": []
    },
    {
      "cell_type": "markdown",
      "source": [
        "터틀 그래픽과 반복을 사용하여 싸인(sine) 그래프를 그려보자. 거북이를 싸인값에 따라서 움직이면 된다."
      ],
      "metadata": {
        "id": "CJzhLk8NE13y"
      }
    },
    {
      "cell_type": "code",
      "source": [
        "import turtle  #turtle모듈을 불러온다.\n",
        "import math  #math모듈을 불러온다.\n",
        "\n",
        "t= turtle.Turtle()  #turtle을 t로 선언\n",
        "t.shape(\"turtle\")  #turtle의 이미지를 거북이로 바꾼다.\n",
        "t.color('red', 'yellow') #도형의 색상과 채우기색상을 red와 yellow로 설정한다.\n",
        "for x in range(0, 360):  #x의 0에서 360픽셀까지 그린다.\n",
        " t.goto(x,200*math.sin(x*3.14/180))  # 싸인값은 sin() 함수로 계산이 가능하다."
      ],
      "metadata": {
        "id": "VfCyq0E8E1-T"
      },
      "execution_count": null,
      "outputs": []
    }
  ]
}