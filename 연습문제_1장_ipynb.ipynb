{
  "nbformat": 4,
  "nbformat_minor": 0,
  "metadata": {
    "colab": {
      "name": "연습문제 1장 ipynb",
      "provenance": [],
      "collapsed_sections": [],
      "authorship_tag": "ABX9TyOtQJvfJn0NlV+iMc2DmGA+",
      "include_colab_link": true
    },
    "kernelspec": {
      "name": "python3",
      "display_name": "Python 3"
    },
    "language_info": {
      "name": "python"
    }
  },
  "cells": [
    {
      "cell_type": "markdown",
      "metadata": {
        "id": "view-in-github",
        "colab_type": "text"
      },
      "source": [
        "<a href=\"https://colab.research.google.com/github/2100452/2100452/blob/main/%EC%97%B0%EC%8A%B5%EB%AC%B8%EC%A0%9C_1%EC%9E%A5_ipynb.ipynb\" target=\"_parent\"><img src=\"https://colab.research.google.com/assets/colab-badge.svg\" alt=\"Open In Colab\"/></a>"
      ]
    },
    {
      "cell_type": "markdown",
      "metadata": {
        "id": "h6C2G_FyCxLl"
      },
      "source": [
        "# 연습문제 1장"
      ]
    },
    {
      "cell_type": "markdown",
      "metadata": {
        "id": "s_25VN52nmo6"
      },
      "source": [
        "1. \"환영합니다\", \"파이썬의 세계에 오신 것을 환영합니다.\", \"파이썬은 강력합니다.\"를 화면에 출력하는 프로그램을 작성하시오. 스크립트 모드로 실행한다."
      ]
    },
    {
      "cell_type": "code",
      "metadata": {
        "colab": {
          "base_uri": "https://localhost:8080/"
        },
        "id": "n213FqbOmc20",
        "outputId": "13889d2a-b4ac-49e3-dbb1-bbac852ade5c"
      },
      "source": [
        "print(\"환영합니다.\") #환영합니다라고 출력한다.\n",
        "print(\"파이썬의 세계에 오신 것을 환영합니다.\")  #파이썬의 세계에 오신 것을 환영합니다 라고 출력한다.\n",
        "print(\"파이썬은 강력합니다.\")  #파이썬은 강력합니다 라고 출력한다."
      ],
      "execution_count": null,
      "outputs": [
        {
          "output_type": "stream",
          "name": "stdout",
          "text": [
            "환영합니다.\n",
            "파이썬의 세계에 오신 것을 환영합니다.\n",
            "파이썬은 강력합니다.\n"
          ]
        }
      ]
    },
    {
      "cell_type": "markdown",
      "metadata": {
        "id": "1Ubv1PneoKlR"
      },
      "source": [
        "2. 다음 프로그램의 실행 결과를 쓰시오.\n",
        "print(\"반갑습니다. 파이썬!\")\n",
        "print(2*3/10)\n",
        "print(\"Hello\", \"World\", \"!!!\")"
      ]
    },
    {
      "cell_type": "code",
      "metadata": {
        "colab": {
          "base_uri": "https://localhost:8080/"
        },
        "id": "US8Z-22loKz6",
        "outputId": "13457667-54c3-49b6-a2ca-f0a5cb20831b"
      },
      "source": [
        "print(\"반갑습니다. 파이썬!\");print(2*3/10);print(\"Hello\",\"World\",\"!!!\") #위 문장을 출력하고 식을 계산하여 출력할 수 있다."
      ],
      "execution_count": null,
      "outputs": [
        {
          "output_type": "stream",
          "name": "stdout",
          "text": [
            "반갑습니다. 파이썬!\n",
            "0.6\n",
            "Hello World !!!\n"
          ]
        }
      ]
    },
    {
      "cell_type": "markdown",
      "metadata": {
        "id": "56BgRv-woLPQ"
      },
      "source": [
        "3. 파이썬 쉘을 사용하여서 한 주가 몇 시간에 해당하는지를 계산해보자."
      ]
    },
    {
      "cell_type": "code",
      "metadata": {
        "colab": {
          "base_uri": "https://localhost:8080/"
        },
        "id": "sjQGsagPoLfQ",
        "outputId": "aad5fc8a-9d54-43b4-d5c7-60370f3f126e"
      },
      "source": [
        "print(7*24) #위 식을 계산하여 출력할 수 있다."
      ],
      "execution_count": null,
      "outputs": [
        {
          "output_type": "stream",
          "name": "stdout",
          "text": [
            "168\n"
          ]
        }
      ]
    },
    {
      "cell_type": "markdown",
      "metadata": {
        "id": "63H4fQSWodno"
      },
      "source": [
        "4. 터틀 그래픽에서 거북이를 이동시켜서 다음과 같은 그림을 그려보자. forward()와 right(), left() 함수만을 사용한다."
      ]
    },
    {
      "cell_type": "code",
      "metadata": {
        "id": "QLYGuc9ppTab"
      },
      "source": [
        "import turtle  #turtle 모듈을 불러온다.\n",
        "t= turtle.Turtle()  #turtle을 t로 선언한다.\n",
        "t.shape(\"turtle\")  #turtle모듈의 아이콘을 turtle로 바꾼다.\n",
        "t.forward(100);  #100픽셀 앞으로 전진\n",
        "t.left(90)  #90도로 좌회전\n",
        "t.forward(100);  #100픽셀 앞으로 전진\n",
        "t,right(90)  #90도로 우회전\n",
        "t.forward(100);  #100픽셀 앞으로 전진\n",
        "t.right(90)  #90도로 우회전\n",
        "t.forward(100);  #100픽셀 앞으로 전진\n",
        "t.left(90)   #90도로 좌회전\n",
        "t.forward(100);  #100픽셀 앞으로 전진\n",
        "exitonclick()  #화면을 마우스로 클릭해야 종료되게 하는 부분\n"
      ],
      "execution_count": null,
      "outputs": []
    },
    {
      "cell_type": "markdown",
      "metadata": {
        "id": "9QiOJEIlp-FF"
      },
      "source": [
        "5. 터틀 그래픽에서 width() 함수를 호출하면 거북이가 그리는 선의 두께를 두껍게 한다.\n",
        "거북이를 이동하여서 다음과 같이 두께가 10인 선을 그려보자."
      ]
    },
    {
      "cell_type": "code",
      "metadata": {
        "id": "QSknYRvPsEbH"
      },
      "source": [
        "import turtle  # turtle 모듈을 불러온다.\n",
        "t= turtle.Turtle()   #turtle을 t로 선언한다.\n",
        "t.shape(\"turtle\")   #turtle의 아이콘을 거북이 모양으로 선언한다.\n",
        "t.width(10)  #너비를 10픽셀로 한다.\n",
        "t.forward(100)  #100픽셀 앞으로 전진\n",
        "t.left(90)   #90도로 좌회전\n",
        "t.forward(100)  \n",
        "t._screen.exitonclick()  # 화면을 마우스로 클릭해야 종료되게 함"
      ],
      "execution_count": null,
      "outputs": []
    },
    {
      "cell_type": "markdown",
      "metadata": {
        "id": "15DKo3vmsFLy"
      },
      "source": [
        "6. 터틀 그래픽에서 color() 함수를 호출하면 거북이가 그리는 선의 색상을 변경할 수 있다. 색상을 파랑색으로 변경하여서 다음과 같이 길이가 100픽셀인 선을 그려보자."
      ]
    },
    {
      "cell_type": "code",
      "metadata": {
        "id": "ebETj-5tsFlv"
      },
      "source": [
        "import turtle    # turtle 모듈을 불러온다.\n",
        "t = turtle.Turtle()    #turtle을 t로 선언한다.\n",
        "t.shape(\"turtle\")    #turtle의 아이콘을 거북이 모양으로 선언한다.\n",
        "t.color(\"blue\")  #turtle의 아이콘 색상을 파랑색으로 바꾼다.\n",
        "t.forward(100)  #앞으로 100픽셀 전진한다.\n",
        "t._screen.exitonclick()  # 화면을 마우스로 클릭해야 종료되게 함"
      ],
      "execution_count": null,
      "outputs": []
    },
    {
      "cell_type": "markdown",
      "metadata": {
        "id": "pmTklhXLsF1s"
      },
      "source": [
        "7. 터틀 그래픽에서는 거북이의 모양을 삼각형, 원, 삼각형, 사각형으로 변경할 수 있다. 다음과 같이 shape() 함수를 사용하면 된다. 사각형으로 변경하고 100픽셀 길이의 직선을 그려보자."
      ]
    },
    {
      "cell_type": "code",
      "metadata": {
        "id": "-UWI5Cw8sGHd"
      },
      "source": [
        "import turtle   # turtle 모듈을 불러온다.\n",
        "t = turtle.Turtle()   #turtle을 t로 선언한다.\n",
        "t.shape(\"turtle\")   #turtle의 아이콘을 거북이 모양으로 선언한다.\n",
        "t.shape(\"square\")  #turtle의 아이콘을 사각형 모양으로 선언한다.\n",
        "t.forward(100)    #앞으로 100픽셀 전진한다.\n",
        "t._screen.exitonclick()  #화면을 마우스로 클릭해야 종료되게 함"
      ],
      "execution_count": null,
      "outputs": []
    },
    {
      "cell_type": "markdown",
      "metadata": {
        "id": "Zy3_As_7t056"
      },
      "source": [
        "8. 터틀그래픽에서 거북이가 이동할 때 선이 그려지지 않게 하려면 t.up()하여 펜을 들 수 있따. 반대로 t.down()은 펜을 내려놓는 명령어이다. 거북이를 화면 좌표 (100,200)으로 이동시키려면 t.goto(100,200)을 호출한다. 이들 명령어를 조합하여 다음과 같은 그림을 그려보자."
      ]
    },
    {
      "cell_type": "code",
      "metadata": {
        "id": "wdWqe8DUuIbg"
      },
      "source": [
        "import turtle  # turtle 모듈을 불러온다.\n",
        "t = turtle.Turtle()  #turtle을 t로 선언한다.\n",
        "t.shape(\"turtle\")   #turtle의 아이콘을 거북이 모양으로 선언한다.\n",
        "t.up()  # 펜을 올려놓는다\n",
        "t.goto(0, 0)  #앞으로 간다.\n",
        "t.down()  #아래로 내려간다.\n",
        "t.forward(100);  #앞으로 100픽셀 전진한다.\n",
        "\n",
        "t.up()  #펜을 올려놓는다.\n",
        "t.goto(0, 100)  # 위로 100만큼 올라간다.\n",
        "t.down()  #펜을 내려놓는다.\n",
        "t.forward(100);  #100픽셀만큼 앞으로 전진한다.\n",
        "t._screen.exitonclick()  #화면을 마우스로 클릭해야 종료되게 함"
      ],
      "execution_count": null,
      "outputs": []
    },
    {
      "cell_type": "markdown",
      "metadata": {
        "id": "ukYpzJqAuHvS"
      },
      "source": [
        "9. 터틀 그래픽에서 t.circle(100)이라고 입력하고 실행하면 화면에 반지름이 100인 원이 그려진다. 이들 명령어를 조합하여서 화면에 오륜기를 그리는 프로그램을 작성해보자."
      ]
    },
    {
      "cell_type": "code",
      "metadata": {
        "id": "u3tOYZAkuKPL"
      },
      "source": [
        "import turtle   # turtle 모듈을 불러온다.\n",
        "t = turtle.Turtle()   #turtle을 t로 선언한다.\n",
        "t.shape(\"turtle\")    #turtle의 아이콘을 거북이 모양으로 선언한다.\n",
        "\n",
        "t.up(); #펜을 위로 올려놓는다. \n",
        "t.goto(-150,0);  #왼쪽으로 150만큼 이동한다. \n",
        "t.down(); #펜을 내려놓는다.\n",
        "t.circle(80) # 반지름이 80인 원을 그린다.\n",
        "t.up(); t.goto(0,0);t.down();t.ircle(80)\n",
        "t.up();t.goto(150,0);t.down();t.circle(80)\n",
        "t.up(); t.goto(-80,-100);t.down();t.circle(80)\n",
        "t.up(); t.goto(80, -100); t.down(); t.circle(80)\n",
        "t._screen.exitonclick() # 화면을 마우스로 클릭해야 종료되게 함"
      ],
      "execution_count": null,
      "outputs": []
    }
  ]
}