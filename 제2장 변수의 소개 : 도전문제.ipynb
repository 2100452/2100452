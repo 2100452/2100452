{
  "nbformat": 4,
  "nbformat_minor": 0,
  "metadata": {
    "colab": {
      "name": "Untitled1.ipynb",
      "provenance": [],
      "collapsed_sections": [],
      "authorship_tag": "ABX9TyNzu4mFwzQZrwG7tAnWp6GP",
      "include_colab_link": true
    },
    "kernelspec": {
      "name": "python3",
      "display_name": "Python 3"
    },
    "language_info": {
      "name": "python"
    }
  },
  "cells": [
    {
      "cell_type": "markdown",
      "metadata": {
        "id": "view-in-github",
        "colab_type": "text"
      },
      "source": [
        "<a href=\"https://colab.research.google.com/github/2100452/2100452/blob/main/%EC%A0%9C2%EC%9E%A5%20%EB%B3%80%EC%88%98%EC%9D%98%20%EC%86%8C%EA%B0%9C%20%3A%20%EB%8F%84%EC%A0%84%EB%AC%B8%EC%A0%9C.ipynb\" target=\"_parent\"><img src=\"https://colab.research.google.com/assets/colab-badge.svg\" alt=\"Open In Colab\"/></a>"
      ]
    },
    {
      "cell_type": "markdown",
      "metadata": {
        "id": "J4s8Y-Z-eoWl"
      },
      "source": [
        "# 11월 13일 과제\n",
        "**제 2장 변수의 소개 : 도전문제**\n",
        "무엇이 출력될까?\n",
        "\n",
        "\n",
        "```\n",
        "x = 7\n",
        "y = 6\n",
        "print(x+y)\n",
        "\n",
        "```\n",
        "\n",
        "\n",
        "```\n",
        "x = '7'\n",
        "y = '6'\n",
        "print(x + y)\n",
        "\n",
        "```\n",
        "\n",
        "\n",
        "\n",
        "\n",
        "\n",
        "\n",
        "\n"
      ]
    },
    {
      "cell_type": "code",
      "metadata": {
        "colab": {
          "base_uri": "https://localhost:8080/"
        },
        "id": "VH15VeqQfeZ8",
        "outputId": "d5f7b462-4b09-483e-b3c2-c4dc90a97d92"
      },
      "source": [
        "x = 7\n",
        "y = 6\n",
        "print(x+y)"
      ],
      "execution_count": 1,
      "outputs": [
        {
          "output_type": "stream",
          "name": "stdout",
          "text": [
            "13\n"
          ]
        }
      ]
    },
    {
      "cell_type": "code",
      "metadata": {
        "colab": {
          "base_uri": "https://localhost:8080/"
        },
        "id": "B8cc-VBrfjAR",
        "outputId": "8d1fbc80-7189-4154-eba4-1c3e37061770"
      },
      "source": [
        "x = '7'\n",
        "y = '6'\n",
        "print(x + y)"
      ],
      "execution_count": 2,
      "outputs": [
        {
          "output_type": "stream",
          "name": "stdout",
          "text": [
            "76\n"
          ]
        }
      ]
    },
    {
      "cell_type": "markdown",
      "metadata": {
        "id": "iBlUqV_Cf1BS"
      },
      "source": [
        "**도전 문제** 거북이가 앞으로 움직이는 거라도 변수 x에 저장하여 보자. 변수의 값을 변경하면서 위의 프로그램을 실행하여 보자.\n"
      ]
    },
    {
      "cell_type": "code",
      "metadata": {
        "id": "Dq3WzlmXgIIC"
      },
      "source": [
        "import turtle\n",
        "t = turtle.Turtle()\n",
        "t.shape(\"turtle\")\n",
        "radius = 50  #변수 radius의 값 50을 선언\n",
        "x = 30  #변수 x와 값을 선언\n",
        "t.circle(radius) #반지름이 50인 원이 그려진다.\n",
        "t.fd(x) #fd는 forward와 같은 명령어이다.\n",
        "t.circle(radius)  #반지름이 50인 원이 그려진다.\n",
        "x = 50  #움직이는 거리를 담는 변수 x의 값은 50픽셀로 수정한다.\n",
        "t.fd(X)  #앞으로 50만큼 움직인다.\n",
        "t.circle(radius)  #반지르이 50인 원이 그려진다."
      ],
      "execution_count": null,
      "outputs": []
    },
    {
      "cell_type": "markdown",
      "metadata": {
        "id": "VZdzW6rAgHFa"
      },
      "source": [
        "**도전문제**\n",
        "사용자로부터 2개의 정수를 받아서 사칙연산(+,-,*,/)를 한 후에 결과를 출력하는 프로그램을 작성해보자."
      ]
    },
    {
      "cell_type": "code",
      "metadata": {
        "id": "9u-e1irs7VPD"
      },
      "source": [
        "x = int(input(\"첫 번째 정수를 입력하시오: \"))\n",
        "y = int(input(\"두 번째 정수를 입력하시오: \"))\n",
        "\n",
        "print(x, \"+\", y, \"=\", x + y)  # 더하기 \n",
        "print(x, \"-\", y, \"=\", x - y)  # 빼기\n",
        "print(x, \"*\", y, \"=\", x * y)  # 곱하기\n",
        "print(x, \"/\", y, \"=\", x / y)  # 나누기"
      ],
      "execution_count": null,
      "outputs": []
    }
  ]
}